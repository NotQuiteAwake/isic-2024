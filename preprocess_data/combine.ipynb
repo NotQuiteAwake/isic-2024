{
 "cells": [
  {
   "cell_type": "code",
   "execution_count": 1,
   "id": "93177e8d-d93d-4d06-9f30-9fac02977a01",
   "metadata": {},
   "outputs": [],
   "source": [
    "%load_ext autoreload\n",
    "%autoreload 2\n",
    "\n",
    "import os\n",
    "from pprint import pprint\n",
    "\n",
    "import pandas as pd\n",
    "import numpy as np\n",
    "from sklearn.model_selection import train_test_split\n",
    "from PIL import Image\n",
    "\n",
    "from datasets import Dataset, DatasetDict, load_dataset, concatenate_datasets\n",
    "from huggingface_hub import HfApi\n",
    "from tqdm import tqdm\n",
    "\n",
    "import isic\n",
    "from isic import printenc, println, printdash\n",
    "\n",
    "SEED = 42"
   ]
  },
  {
   "cell_type": "code",
   "execution_count": 2,
   "id": "b54b6a99-603a-4557-bce5-9c28ccc10a9e",
   "metadata": {},
   "outputs": [
    {
     "name": "stdout",
     "output_type": "stream",
     "text": [
      "--------------------\n",
      "Archive set processing\n",
      "--------------------\n"
     ]
    },
    {
     "name": "stderr",
     "output_type": "stream",
     "text": [
      "100%|█████| 81722/81722 [00:00<00:00, 112951.28it/s]\n"
     ]
    },
    {
     "name": "stdout",
     "output_type": "stream",
     "text": [
      "--------------------\n",
      "Dataset integrity\n",
      "True\n",
      "--------------------\n",
      "--------------------\n",
      "Filter non-dermoscopic\n",
      "image_type\n",
      "dermoscopic    81155\n",
      "Name: count, dtype: int64\n",
      "--------------------\n",
      "--------------------\n",
      "Filter indeterminate/malignant because small sample size & uncertain how to deal with.\n",
      "benign_malignant\n",
      "benign                  63867\n",
      "malignant                8906\n",
      "indeterminate             150\n",
      "indeterminate/benign       66\n",
      "Name: count, dtype: int64\n",
      "--------------------\n",
      "--------------------\n",
      "Drop nan diagnosis and nan benign_malignant samples\n",
      "\n",
      "Rows where both columns take nan now:\n",
      "Series([], Name: count, dtype: int64)\n",
      "--------------------\n",
      "--------------------\n",
      "Map complete set benign/malignant and diagnosis to input label, label inferred rows\n",
      "\n",
      "statistics for labels\n",
      "label\n",
      "0    68021\n",
      "1    13004\n",
      "Name: count, dtype: int64\n",
      "\n",
      "statistics for benign rows\n",
      "diagnosis                           benign_malignant      PROC_label_inferred\n",
      "AIMP                                benign                0                          2\n",
      "                                    indeterminate         0                         61\n",
      "                                    indeterminate/benign  0                         14\n",
      "acrochordon                         benign                0                        301\n",
      "actinic keratosis                   benign                0                        461\n",
      "                                    indeterminate         0                          3\n",
      "                                    NaN                   1                        886\n",
      "angiofibroma or fibrous papule      benign                0                          4\n",
      "angiokeratoma                       benign                0                         13\n",
      "angioma                             benign                0                         71\n",
      "atypical melanocytic proliferation  benign                0                         29\n",
      "                                    indeterminate         0                         60\n",
      "                                    indeterminate/benign  0                         39\n",
      "atypical spitz tumor                indeterminate         0                          4\n",
      "                                    NaN                   1                          1\n",
      "basal cell carcinoma                benign                0                        320\n",
      "cafe-au-lait macule                 benign                0                          2\n",
      "clear cell acanthoma                benign                0                          2\n",
      "dermatofibroma                      benign                0                        114\n",
      "                                    NaN                   1                        284\n",
      "lentigo NOS                         benign                0                        240\n",
      "                                    indeterminate/benign  0                          1\n",
      "lentigo simplex                     benign                0                         43\n",
      "lichenoid keratosis                 benign                0                        311\n",
      "melanoma metastasis                 benign                0                          1\n",
      "mucosal melanosis                   benign                0                          2\n",
      "neurofibroma                        benign                0                         26\n",
      "nevus                               benign                0                      32581\n",
      "                                    indeterminate         0                         15\n",
      "                                    indeterminate/benign  0                         12\n",
      "nevus spilus                        benign                0                          1\n",
      "other                               benign                0                         32\n",
      "pigmented benign keratosis          benign                0                          1\n",
      "                                    NaN                   1                       1338\n",
      "pyogenic granuloma                  benign                0                          3\n",
      "scar                                benign                0                         26\n",
      "sebaceous adenoma                   benign                0                          2\n",
      "sebaceous hyperplasia               benign                0                          7\n",
      "seborrheic keratosis                benign                0                        963\n",
      "                                    NaN                   1                        929\n",
      "solar lentigo                       benign                0                        349\n",
      "                                    NaN                   1                        209\n",
      "squamous cell carcinoma             benign                0                         52\n",
      "vascular lesion                     benign                0                         47\n",
      "                                    NaN                   1                        291\n",
      "verruca                             benign                0                        119\n",
      "NaN                                 benign                0                      27742\n",
      "                                    indeterminate         0                          7\n",
      "Name: count, dtype: int64\n",
      "\n",
      "statistics for malignant rows\n",
      "diagnosis                benign_malignant  PROC_label_inferred\n",
      "basal cell carcinoma     malignant         0                      1016\n",
      "                         NaN               1                      3431\n",
      "clear cell acanthoma     malignant         0                         4\n",
      "melanoma                 malignant         0                      7200\n",
      "                         NaN               1                         7\n",
      "melanoma metastasis      malignant         0                        38\n",
      "other                    malignant         0                         1\n",
      "seborrheic keratosis     malignant         0                        13\n",
      "squamous cell carcinoma  malignant         0                       589\n",
      "                         NaN               1                       660\n",
      "NaN                      malignant         0                        45\n",
      "Name: count, dtype: int64\n",
      "\n",
      "statistics of inferred labels\n",
      "benign_malignant  label  diagnosis                 \n",
      "NaN               0      actinic keratosis              886\n",
      "                         atypical spitz tumor             1\n",
      "                         dermatofibroma                 284\n",
      "                         pigmented benign keratosis    1338\n",
      "                         seborrheic keratosis           929\n",
      "                         solar lentigo                  209\n",
      "                         vascular lesion                291\n",
      "                  1      basal cell carcinoma          3431\n",
      "                         melanoma                         7\n",
      "                         squamous cell carcinoma        660\n",
      "Name: count, dtype: int64\n",
      "--------------------\n"
     ]
    }
   ],
   "source": [
    "printenc(\"Archive set processing\")\n",
    "\n",
    "# dataset and metadata for the complete set.\n",
    "ds_cp = isic.get_complete()\n",
    "md_cp = ds_cp.get_proc_metadata()\n",
    "printenc(\"Dataset integrity\", ds_cp.verify_integrity())\n",
    "\n",
    "md_cp = md_cp[md_cp['image_type'] == 'dermoscopic']\n",
    "printenc(\"Filter non-dermoscopic\", md_cp['image_type'].value_counts())\n",
    "\n",
    "md_cp = md_cp[md_cp['benign_malignant'] != 'indeterminate/malignant']\n",
    "printenc(\"Filter indeterminate/malignant because small sample size & uncertain how to deal with.\",\n",
    "         md_cp['benign_malignant'].value_counts())\n",
    "\n",
    "def cp_nan_diag_maps(diag) -> int:\n",
    "    # GPT generated but verified with statistics in 2024 and complete sets\n",
    "    # Prompted with list of cancer names and required to map benign to 0 and malignant to 1 in python-style dict\n",
    "    cancer_type_mapping = {\n",
    "        'actinic keratosis': 0,  # Benign (pre-cancerous, but not malignant)\n",
    "        'atypical spitz tumor': 0,  # Uncertain but all other cases indeterminate -> label 0 \n",
    "        'basal cell carcinoma': 1,  # Malignant\n",
    "        'dermatofibroma': 0,  # Benign\n",
    "        'melanoma': 1,  # Malignant\n",
    "        'pigmented benign keratosis': 0,  # Benign\n",
    "        'seborrheic keratosis': 0,  # Benign\n",
    "        'solar lentigo': 0,  # Benign\n",
    "        'squamous cell carcinoma': 1,  # Malignant\n",
    "        'vascular lesion': 0 # Uncertain but all other cases treated benign -> 0\n",
    "    }\n",
    "\n",
    "    if type(diag) is not str and np.isnan(diag):\n",
    "        # the entry has both nan benign_malignant and nan diagnosis\n",
    "        # it's hopeless.\n",
    "        return np.nan\n",
    "\n",
    "    return cancer_type_mapping[diag]\n",
    "\n",
    "def cp_label_maps(row, query_inferred: bool = False) -> int:\n",
    "    # to make sure we consciously assign these values\n",
    "    inferred = -1\n",
    "    label = -1\n",
    "    if row['benign_malignant'] == 'benign':\n",
    "        label = 0\n",
    "        inferred = 0\n",
    "    elif row['benign_malignant'] == 'malignant':\n",
    "        label = 1\n",
    "        inferred = 0\n",
    "    elif row['benign_malignant'] in ['indeterminate', 'indeterminate/benign']:\n",
    "        # as is done in isic_2024\n",
    "        label = 0\n",
    "        inferred = 0\n",
    "    elif np.isnan(row['benign_malignant']):\n",
    "        label = cp_nan_diag_maps(row['diagnosis'])\n",
    "        inferred = 1\n",
    "\n",
    "    assert(inferred != -1)\n",
    "    assert(label != -1)\n",
    "\n",
    "    if query_inferred:\n",
    "        return inferred\n",
    "    return label\n",
    "\n",
    "# one column has to have non-nan values\n",
    "# this should eliminate nan values from the label column, as they are useless\n",
    "# even in training and have to be filtered anyhow :)\n",
    "md_cp = md_cp.dropna(subset=['benign_malignant', 'diagnosis'], how = 'all')\n",
    "printenc(\"Drop nan diagnosis and nan benign_malignant samples\\n\",\n",
    "         \"Rows where both columns take nan now:\",\n",
    "         md_cp[md_cp['benign_malignant'].isna() & md_cp['diagnosis'].isna()].value_counts(dropna = False))\n",
    "\n",
    "printdash()\n",
    "md_cp['label'] = md_cp.apply(cp_label_maps, axis = 1)\n",
    "md_cp['PROC_label_inferred'] = md_cp.apply(cp_label_maps, axis = 1, args = (True,))\n",
    "\n",
    "println(\"Map complete set benign/malignant and diagnosis to input label, label inferred rows\")\n",
    "\n",
    "print(\"statistics for labels\")\n",
    "println(md_cp['label'].value_counts(dropna = False))\n",
    "\n",
    "print(\"statistics for benign rows\")\n",
    "println(md_cp[md_cp['label'] == 0]\\\n",
    "             .value_counts(['diagnosis', 'benign_malignant', 'PROC_label_inferred'], dropna = False)\\\n",
    "             .sort_index(ascending = True))\n",
    "\n",
    "print(\"statistics for malignant rows\")\n",
    "println(md_cp[md_cp['label'] == 1][['diagnosis', 'benign_malignant', 'PROC_label_inferred']]\\\n",
    "             .value_counts(sort = False, dropna = False))\n",
    "\n",
    "print(\"statistics of inferred labels\")\n",
    "print(md_cp[md_cp['PROC_label_inferred'] == 1][['benign_malignant', 'label', 'diagnosis']]\\\n",
    "             .value_counts(sort = False, dropna = False))\n",
    "printdash()"
   ]
  },
  {
   "cell_type": "code",
   "execution_count": 3,
   "id": "6604f5a6-51a0-4060-92b5-1e341e2818f3",
   "metadata": {},
   "outputs": [
    {
     "name": "stdout",
     "output_type": "stream",
     "text": [
      "--------------------\n",
      "Complete set partitioning (train/val/test 8:1:1)\n",
      "--------------------\n",
      "--------------------\n",
      "Verify train/verify split\n",
      "PROC_use\n",
      "training      0.800000\n",
      "test          0.100006\n",
      "validation    0.099994\n",
      "Name: proportion, dtype: float64\n",
      "--------------------\n"
     ]
    }
   ],
   "source": [
    "printenc(\"Complete set partitioning (train/val/test 8:1:1)\")\n",
    "\n",
    "ids_cp = md_cp['isic_id'].tolist()\n",
    "ids_train_cp, ids_val_cp = train_test_split(ids_cp,\n",
    "                                            test_size = 0.2,\n",
    "                                            train_size = 0.8,\n",
    "                                            random_state=SEED)\n",
    "\n",
    "ids_val_cp, ids_test_cp = train_test_split(ids_val_cp,\n",
    "                                           test_size = 0.5,\n",
    "                                           train_size = 0.5,\n",
    "                                           random_state = SEED)\n",
    "# training instead of train for compatibility with isic archive naming convention\n",
    "md_cp.loc[md_cp['isic_id'].isin(ids_train_cp), 'PROC_use'] = 'training'\n",
    "md_cp.loc[md_cp['isic_id'].isin(ids_val_cp), 'PROC_use'] = 'validation'\n",
    "md_cp.loc[md_cp['isic_id'].isin(ids_test_cp), 'PROC_use'] = 'test'\n",
    "\n",
    "printenc(\"Verify train/verify split\",\n",
    "         md_cp['PROC_use'].value_counts(normalize = True, dropna = False))"
   ]
  },
  {
   "cell_type": "code",
   "execution_count": 4,
   "id": "0fe98fe8-9b81-4bd8-8da6-ca86d26e7673",
   "metadata": {},
   "outputs": [
    {
     "name": "stdout",
     "output_type": "stream",
     "text": [
      "--------------------\n",
      "2024 set processing\n",
      "TODO: SEE FINAL SECTION FOR DOWNSAMPLED STATISTICS!\n",
      "--------------------\n"
     ]
    },
    {
     "name": "stderr",
     "output_type": "stream",
     "text": [
      "100%|████| 401059/401059 [00:05<00:00, 68492.23it/s]\n"
     ]
    },
    {
     "name": "stdout",
     "output_type": "stream",
     "text": [
      "--------------------\n",
      "Verify dataset integrity\n",
      "True\n",
      "--------------------\n",
      "--------------------\n",
      "Map iddx_1 to benign_malignant\n",
      "iddx_1         benign_malignant\n",
      "Benign         benign              400552\n",
      "Malignant      malignant              393\n",
      "Indeterminate  indeterminate          114\n",
      "Name: count, dtype: int64\n",
      "--------------------\n",
      "--------------------\n",
      "Map target to label\n",
      "target  label\n",
      "0       0        400666\n",
      "1       1           393\n",
      "Name: count, dtype: int64\n",
      "--------------------\n",
      "--------------------\n",
      "Map iddx_3 to diagnosis, isic archive format\n",
      "iddx_3                                              diagnosis                           PROC_diag_inferred\n",
      "Angiofibroma                                        angiofibroma or fibrous papule      1                          2\n",
      "Atypical intraepithelial melanocytic proliferation  AIMP                                1                         11\n",
      "Atypical melanocytic neoplasm                       atypical melanocytic proliferation  1                         64\n",
      "Basal cell carcinoma                                basal cell carcinoma                0                        163\n",
      "Dermatofibroma                                      dermatofibroma                      0                         11\n",
      "Fibroepithelial polyp                               acrochordon                         1                          1\n",
      "Hemangioma                                          angioma                             1                          3\n",
      "Hidradenoma                                         other                               1                          1\n",
      "Lentigo NOS                                         lentigo NOS                         0                          5\n",
      "Lichen planus like keratosis                        lichenoid keratosis                 1                         11\n",
      "Melanoma Invasive                                   melanoma                            1                         63\n",
      "Melanoma in situ                                    melanoma                            1                         80\n",
      "Melanoma metastasis                                 melanoma metastasis                 0                          1\n",
      "Melanoma, NOS                                       melanoma                            1                         13\n",
      "Nevus                                               nevus                               0                        443\n",
      "Pigmented benign keratosis                          pigmented benign keratosis          0                          3\n",
      "Scar                                                scar                                0                          1\n",
      "Seborrheic keratosis                                seborrheic keratosis                0                         57\n",
      "Solar lentigo                                       solar lentigo                       0                         12\n",
      "Solar or actinic keratosis                          actinic keratosis                   1                         39\n",
      "Squamous cell carcinoma in situ                     squamous cell carcinoma             1                         49\n",
      "Squamous cell carcinoma, Invasive                   squamous cell carcinoma             1                         22\n",
      "Squamous cell carcinoma, NOS                        squamous cell carcinoma             1                          2\n",
      "Trichilemmal or isthmic-catagen or pilar cyst       other                               1                          1\n",
      "Verruca                                             verruca                             0                          7\n",
      "NaN                                                 NaN                                 0                     399994\n",
      "Name: count, dtype: int64\n",
      "--------------------\n",
      "--------------------\n",
      "Downsample benign set to 20:1 benign:malignant\n",
      "new benign/malignant statistics\n",
      "label\n",
      "0    7860\n",
      "1     393\n",
      "Name: count, dtype: int64\n",
      "\n",
      "statistics on column [age_approx]\n",
      "count    8197.000000\n",
      "mean       58.304258\n",
      "std        13.583379\n",
      "min        15.000000\n",
      "25%        50.000000\n",
      "50%        60.000000\n",
      "75%        70.000000\n",
      "max        85.000000\n",
      "Name: age_approx, dtype: float64\n",
      "Number of nan: 56\n",
      "Unique values: 16\n",
      "\n",
      "statistics on column [anatom_site_general]\n",
      "anatom_site_general\n",
      "posterior torso    2483\n",
      "lower extremity    2033\n",
      "anterior torso     1858\n",
      "upper extremity    1436\n",
      "head/neck           329\n",
      "NaN                 114\n",
      "Name: count, dtype: int64\n",
      "\n",
      "statistics on column [clin_size_long_diam_mm]\n",
      "count    8253.000000\n",
      "mean        4.021625\n",
      "std         1.918173\n",
      "min         1.010000\n",
      "25%         2.820000\n",
      "50%         3.400000\n",
      "75%         4.500000\n",
      "max        20.400000\n",
      "Name: clin_size_long_diam_mm, dtype: float64\n",
      "Number of nan: 0\n",
      "Unique values: 867\n",
      "\n",
      "statistics on column [sex]\n",
      "sex\n",
      "male      5475\n",
      "female    2534\n",
      "NaN        244\n",
      "Name: count, dtype: int64\n",
      "\n",
      "--------------------\n"
     ]
    }
   ],
   "source": [
    "printenc(\"2024 set processing\",\n",
    "         \"TODO: SEE FINAL SECTION FOR DOWNSAMPLED STATISTICS!\")\n",
    "\n",
    "# dataset and metadata\n",
    "ds_24 = isic.get_2024()\n",
    "md_24 = ds_24.get_proc_metadata()\n",
    "\n",
    "printenc(\"Verify dataset integrity\", ds_24.verify_integrity())\n",
    "\n",
    "md_24['benign_malignant'] = md_24['iddx_1'].apply(lambda s:s.lower())\n",
    "printenc(\"Map iddx_1 to benign_malignant\",\n",
    "         md_24[['iddx_1', 'benign_malignant']].value_counts(dropna = False))\n",
    "\n",
    "md_24['label'] = md_24['target']\n",
    "printenc(\"Map target to label\",\n",
    "         md_24[['target', 'label']].value_counts(dropna = False))\n",
    "\n",
    "# See isic.map_iddx3_diag: supported by ChatGPT response as well as online search\n",
    "# potentially contentious are 'Solar or actinic keratosis',\n",
    "# and those mapped to 'other'.\n",
    "# Some more detailed categories are also collapsed into broader ones (eg types of melanoma)\n",
    "md_24['diagnosis'] = md_24['iddx_3'].apply(isic.map_iddx3_diag)\n",
    "md_24['PROC_diag_inferred'] = md_24['iddx_3'].apply(isic.map_iddx3_diag, args = (True,))\n",
    "# shouldn't we use the competition (2024) format? Well this column isn't present in test...\n",
    "printenc(\"Map iddx_3 to diagnosis, isic archive format\",\n",
    "         md_24[['iddx_3', 'diagnosis', 'PROC_diag_inferred']].value_counts(dropna = False, sort = False))\n",
    "\n",
    "printdash()\n",
    "print(\"Downsample benign set to 20:1 benign:malignant\")\n",
    "OVERSAMPLING_RATE = 20\n",
    "sel_24_ids = [] # sampled ids in 2024 set\n",
    "num_mal_24 = (md_24['label'] == 1).sum() # number of malignant samples in 24 set\n",
    "sel_24_ids.extend(md_24[md_24['label'] == 1]['isic_id'].tolist()) # malignant\n",
    "# benign and potentially indeterminate\n",
    "sel_24_ids.extend(md_24[md_24['label'] == 0]['isic_id'].sample(OVERSAMPLING_RATE * num_mal_24,\n",
    "                                                               random_state = SEED))\n",
    "md_24 = md_24[md_24['isic_id'].isin(sel_24_ids)]\n",
    "\n",
    "print(\"new benign/malignant statistics\")\n",
    "println(md_24['label'].value_counts())\n",
    "\n",
    "col_interest_24 = ['age_approx', 'anatom_site_general', 'clin_size_long_diam_mm', 'sex']\n",
    "for col in col_interest_24:\n",
    "    print(f\"statistics on column [{col}]\")\n",
    "    println(isic.dtype_based_stats(md_24, col))\n",
    "printdash()"
   ]
  },
  {
   "cell_type": "code",
   "execution_count": 5,
   "id": "dca4649c-e95a-4839-8403-35cf1cef6a7c",
   "metadata": {},
   "outputs": [
    {
     "name": "stdout",
     "output_type": "stream",
     "text": [
      "--------------------\n",
      "Assign PROC_use values to 2024 set (train:val 4:1)\n",
      "--------------------\n",
      "--------------------\n",
      "Verify train/validation split\n",
      "PROC_use\n",
      "training      0.799952\n",
      "validation    0.200048\n",
      "Name: proportion, dtype: float64\n",
      "--------------------\n",
      "--------------------\n",
      "Check sufficient positive in validation set\n",
      "label\n",
      "0    1573\n",
      "1      78\n",
      "Name: count, dtype: int64\n",
      "--------------------\n"
     ]
    }
   ],
   "source": [
    "printenc(\"Assign PROC_use values to 2024 set (train:val 4:1)\")\n",
    "\n",
    "ids_24 = md_24['isic_id'].tolist()\n",
    "ids_train_24, ids_val_24 = train_test_split(ids_24,\n",
    "                                            test_size = 0.2,\n",
    "                                            train_size = 0.8,\n",
    "                                            random_state=SEED)\n",
    "# training instead of train for compatibility with isic archive naming convention\n",
    "md_24.loc[md_24['isic_id'].isin(ids_train_24), 'PROC_use'] = 'training'\n",
    "md_24.loc[md_24['isic_id'].isin(ids_val_24), 'PROC_use'] = 'validation'\n",
    "\n",
    "printenc(\"Verify train/validation split\",\n",
    "         md_24['PROC_use'].value_counts(normalize = True, dropna = False))\n",
    "\n",
    "printenc(\"Check sufficient positive in validation set\",\n",
    "         md_24[md_24['PROC_use'] == 'validation']['label'].value_counts(dropna = False))"
   ]
  },
  {
   "cell_type": "code",
   "execution_count": 6,
   "id": "16884df0-c627-4dbe-9122-231f2afd7c2a",
   "metadata": {},
   "outputs": [
    {
     "name": "stdout",
     "output_type": "stream",
     "text": [
      "--------------------\n",
      "Combine 2024 and archive sets, setting unavailable values -> na\n",
      "--------------------\n",
      "--------------------\n",
      "Verify combined list\n",
      "PROC_source\n",
      "complete    81025\n",
      "2024         8253\n",
      "Name: count, dtype: int64\n",
      "--------------------\n",
      "--------------------\n",
      "isic_id all unique?\n",
      "True\n",
      "--------------------\n",
      "--------------------\n",
      "all labels valid (no nan, 0/1 only)?\n",
      "label\n",
      "0    75881\n",
      "1    13397\n",
      "Name: count, dtype: int64\n",
      "--------------------\n",
      "--------------------\n",
      "Overall train/val/test\n",
      "PROC_use\n",
      "training      71422\n",
      "validation     9753\n",
      "test           8103\n",
      "Name: count, dtype: int64\n",
      "--------------------\n"
     ]
    }
   ],
   "source": [
    "printenc(\"Combine 2024 and archive sets, setting unavailable values -> na\")\n",
    "\n",
    "# concatenate the two lists\n",
    "# https://stackoverflow.com/a/67808713\n",
    "md_full = pd.concat([md_24, md_cp], axis=0).reset_index(drop=True)\n",
    "\n",
    "printenc(\"Verify combined list\", \n",
    "         md_full['PROC_source'].value_counts(dropna = False))\n",
    "\n",
    "printenc(\"isic_id all unique?\",\n",
    "      md_full['isic_id'].is_unique)\n",
    "\n",
    "printenc(\"all labels valid (no nan, 0/1 only)?\",\n",
    "      md_full['label'].value_counts(dropna = False))\n",
    "\n",
    "printenc(\"Overall train/val/test\",\n",
    "      md_full['PROC_use'].value_counts(dropna = False))"
   ]
  },
  {
   "cell_type": "code",
   "execution_count": 7,
   "id": "e94cf6a6-31ef-43d7-a237-48c78fb69f82",
   "metadata": {
    "scrolled": true
   },
   "outputs": [
    {
     "name": "stdout",
     "output_type": "stream",
     "text": [
      "--------------------\n",
      "Metadata mixed-type cleanup\n",
      "--------------------\n",
      "--------------------\n",
      "Before clean-up\n",
      "<class 'pandas.core.frame.DataFrame'>\n",
      "RangeIndex: 89278 entries, 0 to 89277\n",
      "Data columns (total 76 columns):\n",
      " #   Column                        Non-Null Count  Dtype  \n",
      "---  ------                        --------------  -----  \n",
      " 0   isic_id                       89278 non-null  object \n",
      " 1   target                        8253 non-null   float64\n",
      " 2   patient_id                    48914 non-null  object \n",
      " 3   age_approx                    87239 non-null  float64\n",
      " 4   sex                           87168 non-null  object \n",
      " 5   anatom_site_general           72330 non-null  object \n",
      " 6   clin_size_long_diam_mm        12209 non-null  float64\n",
      " 7   image_type                    89278 non-null  object \n",
      " 8   tbp_tile_type                 8253 non-null   object \n",
      " 9   tbp_lv_A                      8253 non-null   float64\n",
      " 10  tbp_lv_Aext                   8253 non-null   float64\n",
      " 11  tbp_lv_B                      8253 non-null   float64\n",
      " 12  tbp_lv_Bext                   8253 non-null   float64\n",
      " 13  tbp_lv_C                      8253 non-null   float64\n",
      " 14  tbp_lv_Cext                   8253 non-null   float64\n",
      " 15  tbp_lv_H                      8253 non-null   float64\n",
      " 16  tbp_lv_Hext                   8253 non-null   float64\n",
      " 17  tbp_lv_L                      8253 non-null   float64\n",
      " 18  tbp_lv_Lext                   8253 non-null   float64\n",
      " 19  tbp_lv_areaMM2                8253 non-null   float64\n",
      " 20  tbp_lv_area_perim_ratio       8253 non-null   float64\n",
      " 21  tbp_lv_color_std_mean         8253 non-null   float64\n",
      " 22  tbp_lv_deltaA                 8253 non-null   float64\n",
      " 23  tbp_lv_deltaB                 8253 non-null   float64\n",
      " 24  tbp_lv_deltaL                 8253 non-null   float64\n",
      " 25  tbp_lv_deltaLB                8253 non-null   float64\n",
      " 26  tbp_lv_deltaLBnorm            8253 non-null   float64\n",
      " 27  tbp_lv_eccentricity           8253 non-null   float64\n",
      " 28  tbp_lv_location               8253 non-null   object \n",
      " 29  tbp_lv_location_simple        8253 non-null   object \n",
      " 30  tbp_lv_minorAxisMM            8253 non-null   float64\n",
      " 31  tbp_lv_nevi_confidence        8253 non-null   float64\n",
      " 32  tbp_lv_norm_border            8253 non-null   float64\n",
      " 33  tbp_lv_norm_color             8253 non-null   float64\n",
      " 34  tbp_lv_perimeterMM            8253 non-null   float64\n",
      " 35  tbp_lv_radial_color_std_max   8253 non-null   float64\n",
      " 36  tbp_lv_stdL                   8253 non-null   float64\n",
      " 37  tbp_lv_stdLExt                8253 non-null   float64\n",
      " 38  tbp_lv_symm_2axis             8253 non-null   float64\n",
      " 39  tbp_lv_symm_2axis_angle       8253 non-null   float64\n",
      " 40  tbp_lv_x                      8253 non-null   float64\n",
      " 41  tbp_lv_y                      8253 non-null   float64\n",
      " 42  tbp_lv_z                      8253 non-null   float64\n",
      " 43  attribution                   89278 non-null  object \n",
      " 44  copyright_license             89278 non-null  object \n",
      " 45  lesion_id                     64333 non-null  object \n",
      " 46  iddx_full                     8253 non-null   object \n",
      " 47  iddx_1                        8253 non-null   object \n",
      " 48  iddx_2                        407 non-null    object \n",
      " 49  iddx_3                        407 non-null    object \n",
      " 50  iddx_4                        249 non-null    object \n",
      " 51  iddx_5                        0 non-null      string \n",
      " 52  mel_mitotic_index             108 non-null    string \n",
      " 53  mel_thick_mm                  748 non-null    float64\n",
      " 54  tbp_lv_dnn_lesion_confidence  8253 non-null   float64\n",
      " 55  PROC_use                      89278 non-null  object \n",
      " 56  PROC_source                   89278 non-null  object \n",
      " 57  benign_malignant              81242 non-null  object \n",
      " 58  label                         89278 non-null  int64  \n",
      " 59  diagnosis                     53638 non-null  object \n",
      " 60  PROC_diag_inferred            8253 non-null   float64\n",
      " 61  acquisition_day               23395 non-null  float64\n",
      " 62  concomitant_biopsy            80967 non-null  float64\n",
      " 63  dermoscopic_type              21853 non-null  object \n",
      " 64  diagnosis_confirm_type        77775 non-null  object \n",
      " 65  family_hx_mm                  13685 non-null  object \n",
      " 66  fitzpatrick_skin_type         3278 non-null   string \n",
      " 67  mel_class                     1011 non-null   string \n",
      " 68  mel_type                      208 non-null    string \n",
      " 69  mel_ulcer                     215 non-null    object \n",
      " 70  melanocytic                   52186 non-null  object \n",
      " 71  nevus_type                    1369 non-null   object \n",
      " 72  personal_hx_mm                14190 non-null  object \n",
      " 73  pixels_x                      81025 non-null  float64\n",
      " 74  pixels_y                      81025 non-null  float64\n",
      " 75  PROC_label_inferred           81025 non-null  float64\n",
      "dtypes: float64(43), int64(1), object(27), string(5)\n",
      "memory usage: 51.8+ MB\n",
      "--------------------\n",
      "--------------------\n",
      "After clean-up\n",
      "<class 'pandas.core.frame.DataFrame'>\n",
      "RangeIndex: 89278 entries, 0 to 89277\n",
      "Data columns (total 76 columns):\n",
      " #   Column                        Non-Null Count  Dtype  \n",
      "---  ------                        --------------  -----  \n",
      " 0   isic_id                       89278 non-null  string \n",
      " 1   target                        8253 non-null   float64\n",
      " 2   patient_id                    89278 non-null  string \n",
      " 3   age_approx                    87239 non-null  float64\n",
      " 4   sex                           89278 non-null  string \n",
      " 5   anatom_site_general           89278 non-null  string \n",
      " 6   clin_size_long_diam_mm        12209 non-null  float64\n",
      " 7   image_type                    89278 non-null  string \n",
      " 8   tbp_tile_type                 89278 non-null  string \n",
      " 9   tbp_lv_A                      8253 non-null   float64\n",
      " 10  tbp_lv_Aext                   8253 non-null   float64\n",
      " 11  tbp_lv_B                      8253 non-null   float64\n",
      " 12  tbp_lv_Bext                   8253 non-null   float64\n",
      " 13  tbp_lv_C                      8253 non-null   float64\n",
      " 14  tbp_lv_Cext                   8253 non-null   float64\n",
      " 15  tbp_lv_H                      8253 non-null   float64\n",
      " 16  tbp_lv_Hext                   8253 non-null   float64\n",
      " 17  tbp_lv_L                      8253 non-null   float64\n",
      " 18  tbp_lv_Lext                   8253 non-null   float64\n",
      " 19  tbp_lv_areaMM2                8253 non-null   float64\n",
      " 20  tbp_lv_area_perim_ratio       8253 non-null   float64\n",
      " 21  tbp_lv_color_std_mean         8253 non-null   float64\n",
      " 22  tbp_lv_deltaA                 8253 non-null   float64\n",
      " 23  tbp_lv_deltaB                 8253 non-null   float64\n",
      " 24  tbp_lv_deltaL                 8253 non-null   float64\n",
      " 25  tbp_lv_deltaLB                8253 non-null   float64\n",
      " 26  tbp_lv_deltaLBnorm            8253 non-null   float64\n",
      " 27  tbp_lv_eccentricity           8253 non-null   float64\n",
      " 28  tbp_lv_location               89278 non-null  string \n",
      " 29  tbp_lv_location_simple        89278 non-null  string \n",
      " 30  tbp_lv_minorAxisMM            8253 non-null   float64\n",
      " 31  tbp_lv_nevi_confidence        8253 non-null   float64\n",
      " 32  tbp_lv_norm_border            8253 non-null   float64\n",
      " 33  tbp_lv_norm_color             8253 non-null   float64\n",
      " 34  tbp_lv_perimeterMM            8253 non-null   float64\n",
      " 35  tbp_lv_radial_color_std_max   8253 non-null   float64\n",
      " 36  tbp_lv_stdL                   8253 non-null   float64\n",
      " 37  tbp_lv_stdLExt                8253 non-null   float64\n",
      " 38  tbp_lv_symm_2axis             8253 non-null   float64\n",
      " 39  tbp_lv_symm_2axis_angle       8253 non-null   float64\n",
      " 40  tbp_lv_x                      8253 non-null   float64\n",
      " 41  tbp_lv_y                      8253 non-null   float64\n",
      " 42  tbp_lv_z                      8253 non-null   float64\n",
      " 43  attribution                   89278 non-null  string \n",
      " 44  copyright_license             89278 non-null  string \n",
      " 45  lesion_id                     89278 non-null  string \n",
      " 46  iddx_full                     89278 non-null  string \n",
      " 47  iddx_1                        89278 non-null  string \n",
      " 48  iddx_2                        89278 non-null  string \n",
      " 49  iddx_3                        89278 non-null  string \n",
      " 50  iddx_4                        89278 non-null  string \n",
      " 51  iddx_5                        0 non-null      string \n",
      " 52  mel_mitotic_index             89278 non-null  string \n",
      " 53  mel_thick_mm                  748 non-null    float64\n",
      " 54  tbp_lv_dnn_lesion_confidence  8253 non-null   float64\n",
      " 55  PROC_use                      89278 non-null  string \n",
      " 56  PROC_source                   89278 non-null  string \n",
      " 57  benign_malignant              89278 non-null  string \n",
      " 58  label                         89278 non-null  int64  \n",
      " 59  diagnosis                     89278 non-null  string \n",
      " 60  PROC_diag_inferred            8253 non-null   float64\n",
      " 61  acquisition_day               23395 non-null  float64\n",
      " 62  concomitant_biopsy            80967 non-null  float64\n",
      " 63  dermoscopic_type              89278 non-null  string \n",
      " 64  diagnosis_confirm_type        89278 non-null  string \n",
      " 65  family_hx_mm                  13685 non-null  float64\n",
      " 66  fitzpatrick_skin_type         89278 non-null  string \n",
      " 67  mel_class                     89278 non-null  string \n",
      " 68  mel_type                      89278 non-null  string \n",
      " 69  mel_ulcer                     215 non-null    float64\n",
      " 70  melanocytic                   52186 non-null  float64\n",
      " 71  nevus_type                    89278 non-null  string \n",
      " 72  personal_hx_mm                14190 non-null  float64\n",
      " 73  pixels_x                      81025 non-null  float64\n",
      " 74  pixels_y                      81025 non-null  float64\n",
      " 75  PROC_label_inferred           81025 non-null  float64\n",
      "dtypes: float64(47), int64(1), string(28)\n",
      "memory usage: 51.8 MB\n",
      "--------------------\n"
     ]
    }
   ],
   "source": [
    "printenc(\"Metadata mixed-type cleanup\")\n",
    "\n",
    "printdash()\n",
    "print(\"Before clean-up\")\n",
    "md_full.info(verbose = True)\n",
    "printdash()\n",
    "\n",
    "def type_in_col(column, tp):\n",
    "    return column.apply(isinstance, args = (tp,)).any()\n",
    "\n",
    "# after this procedure all nullable types are cast to float64 (inclufing bool)\n",
    "# on the other hand strings will have '' to represent na.\n",
    "for col in md_full.columns.values:\n",
    "    num_types = len(md_full[col].apply(type).unique())\n",
    "    \n",
    "    if type_in_col(md_full[col], str):\n",
    "        # for those str columns that have only the str type fillna won't do a thing.\n",
    "        # otherwise get rid of nans and change type to string for consistency\n",
    "        num_nan = md_full[col].isna().sum()\n",
    "        md_full[col] = md_full[col].fillna('').astype('string')\n",
    "        counts = md_full[col].value_counts()\n",
    "\n",
    "        if '' not in counts:\n",
    "            assert(num_nan == 0)\n",
    "        else:\n",
    "            assert(num_nan == counts[''])\n",
    "        \n",
    "    elif type_in_col(md_full[col], bool):\n",
    "        num_nan = md_full[col].isna().sum()\n",
    "        md_full[col] = md_full[col].astype(float)\n",
    "        assert(num_nan == md_full[col].isna().sum())\n",
    "    \n",
    "    assert(len(md_full[col].apply(type).unique()) == 1)\n",
    "\n",
    "md_full.convert_dtypes()\n",
    "\n",
    "printdash()\n",
    "print('After clean-up')\n",
    "md_full.info(verbose = True)\n",
    "printdash()"
   ]
  },
  {
   "cell_type": "code",
   "execution_count": 8,
   "id": "54be7709-01e0-4f3f-901d-3263193a8c25",
   "metadata": {},
   "outputs": [
    {
     "name": "stdout",
     "output_type": "stream",
     "text": [
      "--------------------\n",
      "Metadata save and upload\n",
      "--------------------\n"
     ]
    },
    {
     "name": "stderr",
     "output_type": "stream",
     "text": [
      "No files have been modified since last commit. Skipping to prevent empty commit.\n"
     ]
    },
    {
     "name": "stdout",
     "output_type": "stream",
     "text": [
      "--------------------\n",
      "Split train/val/test\n",
      "--------------------\n"
     ]
    }
   ],
   "source": [
    "printenc(\"Metadata save and upload\")\n",
    "METADATA_SAVE = 'data/isic/metadata_full.json'\n",
    "METADATA_REPO = 'metadata.json'\n",
    "md_full.to_json(METADATA_SAVE)\n",
    "\n",
    "api = HfApi()\n",
    "\n",
    "api.upload_file(\n",
    "    commit_message = \"Update metadata\",\n",
    "    path_or_fileobj = METADATA_SAVE,\n",
    "    path_in_repo = METADATA_REPO,\n",
    "    repo_id = 'TobanDjan/isic_full',\n",
    "    repo_type = 'dataset'\n",
    ")\n",
    "\n",
    "printenc(\"Split train/val/test\")\n",
    "\n",
    "md_train = md_full[md_full['PROC_use'] == 'training']\n",
    "md_val = md_full[md_full['PROC_use'] == 'validation']\n",
    "md_test = md_full[md_full['PROC_use'] == 'test']\n",
    "\n",
    "md_splits = {\n",
    "            'train': md_train,\n",
    "            'validation': md_val,\n",
    "            'test': md_test\n",
    "            }"
   ]
  },
  {
   "cell_type": "code",
   "execution_count": 9,
   "id": "86c03c94-1ba4-4bba-b7c9-fc08a5775f07",
   "metadata": {},
   "outputs": [],
   "source": [
    "# ignore - legacy upload method for isic_2024 and isic_archive sets.\n",
    "def get_filename(row):\n",
    "    filename = \"\"\n",
    "    \n",
    "    if row['PROC_source'] == '2024':\n",
    "        filename = ds_24.get_filename(row['isic_id'])\n",
    "    elif row['PROC_source'] == 'complete':\n",
    "        filename = ds_cp.get_filename(row['isic_id'])\n",
    "\n",
    "    assert(filename != \"\")\n",
    "    return filename\n",
    "\n",
    "def upload_imagefolder():\n",
    "    md_full['file_name'] = md_full['isic_id'].apply(lambda s: s + '.jpg')\n",
    "    \n",
    "    BASE_DIR = 'data/isic/final/'\n",
    "    os.makedirs(BASE_DIR, exist_ok = False)\n",
    "    \n",
    "    # separate 2024 and complete sets\n",
    "    for source in md_full['PROC_source'].unique():\n",
    "        printdash()\n",
    "        print(f\"Processing subset [{source}]\")\n",
    "        source_subset = md_full[md_full['PROC_source'] == source]\n",
    "        source_dir = os.path.join(BASE_DIR, source)\n",
    "        os.makedirs(source_dir, exist_ok = True)\n",
    "        \n",
    "        for use in md_full[md_full['PROC_source'] == source]['PROC_use'].unique():\n",
    "            use_subset = source_subset[source_subset['PROC_use'] == use]\n",
    "            if use == 'training':\n",
    "                use = 'train' # huggingface convention.\n",
    "    \n",
    "            use_dir = os.path.join(source_dir, use)\n",
    "            os.makedirs(use_dir, exist_ok = True)\n",
    "    \n",
    "            for label in use_subset['label'].unique():\n",
    "                label_subset = use_subset[use_subset['label'] == label]\n",
    "                label_dir = os.path.join(use_dir, str(label))\n",
    "                os.makedirs(label_dir, exist_ok = True)\n",
    "                \n",
    "                print(f\"Processing [{source}] for use [{use}], label[{label}]\")\n",
    "            \n",
    "                for idx, row in tqdm(label_subset.iterrows(), total = label_subset.shape[0]):\n",
    "                    filename = get_filename(row)\n",
    "                    final_loc = os.path.join(label_dir, os.path.basename(filename))\n",
    "                    os.link(filename, final_loc)\n",
    "        \n",
    "                    # eff me.\n",
    "                    # https://github.com/huggingface/datasets/issues/6764#issue-2215767119\n",
    "                    # os.symlink(filename, final_loc)\n",
    "    \n",
    "        dataset = load_dataset(\"imagefolder\", data_dir = source_dir)\n",
    "    \n",
    "        REMOTE_REPOS = { 'complete': 'isic_archive', '2024': 'isic_2024' }\n",
    "            \n",
    "        dataset.push_to_hub('TobanDjan/' + REMOTE_REPOS[source], private = False)\n",
    "        \n",
    "        printdash()"
   ]
  },
  {
   "cell_type": "code",
   "execution_count": 10,
   "id": "bf308d0d-c077-4b7c-94b0-94a44d451bf2",
   "metadata": {},
   "outputs": [
    {
     "name": "stdout",
     "output_type": "stream",
     "text": [
      "--------------------\n",
      "Prepare HF DatasetDict\n",
      "--------------------\n",
      "--------------------\n",
      "Subset ['train']\n",
      "Dataset({\n",
      "    features: ['isic_id', 'target', 'patient_id', 'age_approx', 'sex', 'anatom_site_general', 'clin_size_long_diam_mm', 'image_type', 'tbp_tile_type', 'tbp_lv_A', 'tbp_lv_Aext', 'tbp_lv_B', 'tbp_lv_Bext', 'tbp_lv_C', 'tbp_lv_Cext', 'tbp_lv_H', 'tbp_lv_Hext', 'tbp_lv_L', 'tbp_lv_Lext', 'tbp_lv_areaMM2', 'tbp_lv_area_perim_ratio', 'tbp_lv_color_std_mean', 'tbp_lv_deltaA', 'tbp_lv_deltaB', 'tbp_lv_deltaL', 'tbp_lv_deltaLB', 'tbp_lv_deltaLBnorm', 'tbp_lv_eccentricity', 'tbp_lv_location', 'tbp_lv_location_simple', 'tbp_lv_minorAxisMM', 'tbp_lv_nevi_confidence', 'tbp_lv_norm_border', 'tbp_lv_norm_color', 'tbp_lv_perimeterMM', 'tbp_lv_radial_color_std_max', 'tbp_lv_stdL', 'tbp_lv_stdLExt', 'tbp_lv_symm_2axis', 'tbp_lv_symm_2axis_angle', 'tbp_lv_x', 'tbp_lv_y', 'tbp_lv_z', 'attribution', 'copyright_license', 'lesion_id', 'iddx_full', 'iddx_1', 'iddx_2', 'iddx_3', 'iddx_4', 'iddx_5', 'mel_mitotic_index', 'mel_thick_mm', 'tbp_lv_dnn_lesion_confidence', 'PROC_use', 'PROC_source', 'benign_malignant', 'label', 'diagnosis', 'PROC_diag_inferred', 'acquisition_day', 'concomitant_biopsy', 'dermoscopic_type', 'diagnosis_confirm_type', 'family_hx_mm', 'fitzpatrick_skin_type', 'mel_class', 'mel_type', 'mel_ulcer', 'melanocytic', 'nevus_type', 'personal_hx_mm', 'pixels_x', 'pixels_y', 'PROC_label_inferred', 'image'],\n",
      "    num_rows: 71422\n",
      "})\n",
      "--------------------\n",
      "--------------------\n",
      "Subset ['validation']\n",
      "Dataset({\n",
      "    features: ['isic_id', 'target', 'patient_id', 'age_approx', 'sex', 'anatom_site_general', 'clin_size_long_diam_mm', 'image_type', 'tbp_tile_type', 'tbp_lv_A', 'tbp_lv_Aext', 'tbp_lv_B', 'tbp_lv_Bext', 'tbp_lv_C', 'tbp_lv_Cext', 'tbp_lv_H', 'tbp_lv_Hext', 'tbp_lv_L', 'tbp_lv_Lext', 'tbp_lv_areaMM2', 'tbp_lv_area_perim_ratio', 'tbp_lv_color_std_mean', 'tbp_lv_deltaA', 'tbp_lv_deltaB', 'tbp_lv_deltaL', 'tbp_lv_deltaLB', 'tbp_lv_deltaLBnorm', 'tbp_lv_eccentricity', 'tbp_lv_location', 'tbp_lv_location_simple', 'tbp_lv_minorAxisMM', 'tbp_lv_nevi_confidence', 'tbp_lv_norm_border', 'tbp_lv_norm_color', 'tbp_lv_perimeterMM', 'tbp_lv_radial_color_std_max', 'tbp_lv_stdL', 'tbp_lv_stdLExt', 'tbp_lv_symm_2axis', 'tbp_lv_symm_2axis_angle', 'tbp_lv_x', 'tbp_lv_y', 'tbp_lv_z', 'attribution', 'copyright_license', 'lesion_id', 'iddx_full', 'iddx_1', 'iddx_2', 'iddx_3', 'iddx_4', 'iddx_5', 'mel_mitotic_index', 'mel_thick_mm', 'tbp_lv_dnn_lesion_confidence', 'PROC_use', 'PROC_source', 'benign_malignant', 'label', 'diagnosis', 'PROC_diag_inferred', 'acquisition_day', 'concomitant_biopsy', 'dermoscopic_type', 'diagnosis_confirm_type', 'family_hx_mm', 'fitzpatrick_skin_type', 'mel_class', 'mel_type', 'mel_ulcer', 'melanocytic', 'nevus_type', 'personal_hx_mm', 'pixels_x', 'pixels_y', 'PROC_label_inferred', 'image'],\n",
      "    num_rows: 9753\n",
      "})\n",
      "--------------------\n",
      "--------------------\n",
      "Subset ['test']\n",
      "Dataset({\n",
      "    features: ['isic_id', 'target', 'patient_id', 'age_approx', 'sex', 'anatom_site_general', 'clin_size_long_diam_mm', 'image_type', 'tbp_tile_type', 'tbp_lv_A', 'tbp_lv_Aext', 'tbp_lv_B', 'tbp_lv_Bext', 'tbp_lv_C', 'tbp_lv_Cext', 'tbp_lv_H', 'tbp_lv_Hext', 'tbp_lv_L', 'tbp_lv_Lext', 'tbp_lv_areaMM2', 'tbp_lv_area_perim_ratio', 'tbp_lv_color_std_mean', 'tbp_lv_deltaA', 'tbp_lv_deltaB', 'tbp_lv_deltaL', 'tbp_lv_deltaLB', 'tbp_lv_deltaLBnorm', 'tbp_lv_eccentricity', 'tbp_lv_location', 'tbp_lv_location_simple', 'tbp_lv_minorAxisMM', 'tbp_lv_nevi_confidence', 'tbp_lv_norm_border', 'tbp_lv_norm_color', 'tbp_lv_perimeterMM', 'tbp_lv_radial_color_std_max', 'tbp_lv_stdL', 'tbp_lv_stdLExt', 'tbp_lv_symm_2axis', 'tbp_lv_symm_2axis_angle', 'tbp_lv_x', 'tbp_lv_y', 'tbp_lv_z', 'attribution', 'copyright_license', 'lesion_id', 'iddx_full', 'iddx_1', 'iddx_2', 'iddx_3', 'iddx_4', 'iddx_5', 'mel_mitotic_index', 'mel_thick_mm', 'tbp_lv_dnn_lesion_confidence', 'PROC_use', 'PROC_source', 'benign_malignant', 'label', 'diagnosis', 'PROC_diag_inferred', 'acquisition_day', 'concomitant_biopsy', 'dermoscopic_type', 'diagnosis_confirm_type', 'family_hx_mm', 'fitzpatrick_skin_type', 'mel_class', 'mel_type', 'mel_ulcer', 'melanocytic', 'nevus_type', 'personal_hx_mm', 'pixels_x', 'pixels_y', 'PROC_label_inferred', 'image'],\n",
      "    num_rows: 8103\n",
      "})\n",
      "--------------------\n"
     ]
    }
   ],
   "source": [
    "def load_image(row):\n",
    "    filename = \"\"\n",
    "\n",
    "    if row['PROC_source'] == '2024':\n",
    "        # bypass ISIC_Dataset.get_image() since it's too slow (generates metadata everytime.)\n",
    "        # bypass ISIC_Dataset.get_images() since it doesn't fit into my memory\n",
    "        filename = ds_24.get_filename(row['isic_id'])\n",
    "    elif row['PROC_source'] == 'complete':\n",
    "        filename = ds_cp.get_filename(row['isic_id'])\n",
    "        \n",
    "    assert(filename != \"\")\n",
    "    image = Image.open(filename)\n",
    "    # DO NOT LOAD HERE, for PIL is LAZY\n",
    "    # https://www.reddit.com/r/learnpython/comments/3e1611/comment/ctajz5z/?utm_source=share&utm_medium=web3x&utm_name=web3xcss&utm_term=1&utm_content=share_button\n",
    "    return image\n",
    "\n",
    "def ds_generator(md):\n",
    "    # https://ys-l.github.io/posts/2015/08/28/how-not-to-use-pandas-apply/\n",
    "    # https://github.com/huggingface/datasets/issues/4796#issuecomment-2048822155\n",
    "    md_dict = md.to_dict(orient = 'records')\n",
    "    \n",
    "    for row in md_dict:\n",
    "        # make new instance to not load image into row\n",
    "        # or else might exceed the nofile limit\n",
    "        yield row | {'image': load_image(row)}\n",
    "\n",
    "HF_TEMP = 'data/isic/temp/hf/'\n",
    "\n",
    "printenc(\"Prepare HF DatasetDict\")\n",
    "\n",
    "hf_full = DatasetDict()\n",
    "\n",
    "for use, md in md_splits.items():\n",
    "    printdash()\n",
    "    print(f\"Subset {[use]}\")\n",
    "\n",
    "    hf_full[use] = Dataset.from_generator(ds_generator,\n",
    "                                          cache_dir = HF_TEMP,\n",
    "                                          keep_in_memory = False,\n",
    "                                          gen_kwargs = {'md': md})\n",
    "\n",
    "    assert(len(hf_full[use]) == md.shape[0])\n",
    "    \n",
    "    pprint(hf_full[use])\n",
    "    printdash()"
   ]
  },
  {
   "cell_type": "code",
   "execution_count": 11,
   "id": "b6d2188d-823c-4757-a17e-29ac31a65a31",
   "metadata": {},
   "outputs": [
    {
     "name": "stdout",
     "output_type": "stream",
     "text": [
      "--------------------\n",
      "Upload to HF\n",
      "--------------------\n"
     ]
    },
    {
     "data": {
      "application/vnd.jupyter.widget-view+json": {
       "model_id": "d92c6053549243dcb78e4e6c06600eda",
       "version_major": 2,
       "version_minor": 0
      },
      "text/plain": [
       "Uploading the dataset shards:   0%|          | 0/48 [00:00<?, ?it/s]"
      ]
     },
     "metadata": {},
     "output_type": "display_data"
    },
    {
     "data": {
      "application/vnd.jupyter.widget-view+json": {
       "model_id": "b2dce96cb6cd4894a48aa2b05cc85985",
       "version_major": 2,
       "version_minor": 0
      },
      "text/plain": [
       "Map:   0%|          | 0/1488 [00:00<?, ? examples/s]"
      ]
     },
     "metadata": {},
     "output_type": "display_data"
    },
    {
     "data": {
      "application/vnd.jupyter.widget-view+json": {
       "model_id": "c122af094e0f4bab87b778b9a6e262b7",
       "version_major": 2,
       "version_minor": 0
      },
      "text/plain": [
       "Creating parquet from Arrow format:   0%|          | 0/15 [00:00<?, ?ba/s]"
      ]
     },
     "metadata": {},
     "output_type": "display_data"
    },
    {
     "data": {
      "application/vnd.jupyter.widget-view+json": {
       "model_id": "ad0080eb0a0e435792f49fe27b87cd6e",
       "version_major": 2,
       "version_minor": 0
      },
      "text/plain": [
       "Map:   0%|          | 0/1488 [00:00<?, ? examples/s]"
      ]
     },
     "metadata": {},
     "output_type": "display_data"
    },
    {
     "data": {
      "application/vnd.jupyter.widget-view+json": {
       "model_id": "1e228a214eac4517837acf21916d22de",
       "version_major": 2,
       "version_minor": 0
      },
      "text/plain": [
       "Creating parquet from Arrow format:   0%|          | 0/15 [00:00<?, ?ba/s]"
      ]
     },
     "metadata": {},
     "output_type": "display_data"
    },
    {
     "data": {
      "application/vnd.jupyter.widget-view+json": {
       "model_id": "310315afb9b048d8b21e9ad31f772d49",
       "version_major": 2,
       "version_minor": 0
      },
      "text/plain": [
       "Map:   0%|          | 0/1488 [00:00<?, ? examples/s]"
      ]
     },
     "metadata": {},
     "output_type": "display_data"
    },
    {
     "data": {
      "application/vnd.jupyter.widget-view+json": {
       "model_id": "bc11590aa06647c6a2e453395e6e0968",
       "version_major": 2,
       "version_minor": 0
      },
      "text/plain": [
       "Creating parquet from Arrow format:   0%|          | 0/15 [00:00<?, ?ba/s]"
      ]
     },
     "metadata": {},
     "output_type": "display_data"
    },
    {
     "data": {
      "application/vnd.jupyter.widget-view+json": {
       "model_id": "d05b2c36d7de44508a430d7826f3bfc5",
       "version_major": 2,
       "version_minor": 0
      },
      "text/plain": [
       "Map:   0%|          | 0/1488 [00:00<?, ? examples/s]"
      ]
     },
     "metadata": {},
     "output_type": "display_data"
    },
    {
     "data": {
      "application/vnd.jupyter.widget-view+json": {
       "model_id": "f8ea55adc63f4903b98b10930f3316b4",
       "version_major": 2,
       "version_minor": 0
      },
      "text/plain": [
       "Creating parquet from Arrow format:   0%|          | 0/15 [00:00<?, ?ba/s]"
      ]
     },
     "metadata": {},
     "output_type": "display_data"
    },
    {
     "data": {
      "application/vnd.jupyter.widget-view+json": {
       "model_id": "9d4db035fe0449e4af04920b2f456c85",
       "version_major": 2,
       "version_minor": 0
      },
      "text/plain": [
       "Map:   0%|          | 0/1488 [00:00<?, ? examples/s]"
      ]
     },
     "metadata": {},
     "output_type": "display_data"
    },
    {
     "data": {
      "application/vnd.jupyter.widget-view+json": {
       "model_id": "61886981644145c3bad1a1ae4c427154",
       "version_major": 2,
       "version_minor": 0
      },
      "text/plain": [
       "Creating parquet from Arrow format:   0%|          | 0/15 [00:00<?, ?ba/s]"
      ]
     },
     "metadata": {},
     "output_type": "display_data"
    },
    {
     "data": {
      "application/vnd.jupyter.widget-view+json": {
       "model_id": "4a8722af40ea48a7b30c5353609aa3af",
       "version_major": 2,
       "version_minor": 0
      },
      "text/plain": [
       "Map:   0%|          | 0/1488 [00:00<?, ? examples/s]"
      ]
     },
     "metadata": {},
     "output_type": "display_data"
    },
    {
     "data": {
      "application/vnd.jupyter.widget-view+json": {
       "model_id": "63099646308e45d6a53ddb42a8f568b4",
       "version_major": 2,
       "version_minor": 0
      },
      "text/plain": [
       "Creating parquet from Arrow format:   0%|          | 0/15 [00:00<?, ?ba/s]"
      ]
     },
     "metadata": {},
     "output_type": "display_data"
    },
    {
     "data": {
      "application/vnd.jupyter.widget-view+json": {
       "model_id": "873ee986b678452abaecdbb36ac2f87e",
       "version_major": 2,
       "version_minor": 0
      },
      "text/plain": [
       "Map:   0%|          | 0/1488 [00:00<?, ? examples/s]"
      ]
     },
     "metadata": {},
     "output_type": "display_data"
    },
    {
     "data": {
      "application/vnd.jupyter.widget-view+json": {
       "model_id": "08c2ed98720b4bdfa1e92ebca9595bfe",
       "version_major": 2,
       "version_minor": 0
      },
      "text/plain": [
       "Creating parquet from Arrow format:   0%|          | 0/15 [00:00<?, ?ba/s]"
      ]
     },
     "metadata": {},
     "output_type": "display_data"
    },
    {
     "data": {
      "application/vnd.jupyter.widget-view+json": {
       "model_id": "7d4600d7e9ae4010ad66cf8f96f13882",
       "version_major": 2,
       "version_minor": 0
      },
      "text/plain": [
       "Map:   0%|          | 0/1488 [00:00<?, ? examples/s]"
      ]
     },
     "metadata": {},
     "output_type": "display_data"
    },
    {
     "data": {
      "application/vnd.jupyter.widget-view+json": {
       "model_id": "d0a0e65198e74677852aeb20040301b6",
       "version_major": 2,
       "version_minor": 0
      },
      "text/plain": [
       "Creating parquet from Arrow format:   0%|          | 0/15 [00:00<?, ?ba/s]"
      ]
     },
     "metadata": {},
     "output_type": "display_data"
    },
    {
     "data": {
      "application/vnd.jupyter.widget-view+json": {
       "model_id": "612fd174aad74eca9a885e785d9edf67",
       "version_major": 2,
       "version_minor": 0
      },
      "text/plain": [
       "Map:   0%|          | 0/1488 [00:00<?, ? examples/s]"
      ]
     },
     "metadata": {},
     "output_type": "display_data"
    },
    {
     "data": {
      "application/vnd.jupyter.widget-view+json": {
       "model_id": "2b7fd0f102e54eeaad26ce71ec7899da",
       "version_major": 2,
       "version_minor": 0
      },
      "text/plain": [
       "Creating parquet from Arrow format:   0%|          | 0/15 [00:00<?, ?ba/s]"
      ]
     },
     "metadata": {},
     "output_type": "display_data"
    },
    {
     "data": {
      "application/vnd.jupyter.widget-view+json": {
       "model_id": "419afb669282460b9305a0c7055cd565",
       "version_major": 2,
       "version_minor": 0
      },
      "text/plain": [
       "Map:   0%|          | 0/1488 [00:00<?, ? examples/s]"
      ]
     },
     "metadata": {},
     "output_type": "display_data"
    },
    {
     "data": {
      "application/vnd.jupyter.widget-view+json": {
       "model_id": "654ceb2cbaeb4f859e75fe3f0bbd5ebc",
       "version_major": 2,
       "version_minor": 0
      },
      "text/plain": [
       "Creating parquet from Arrow format:   0%|          | 0/15 [00:00<?, ?ba/s]"
      ]
     },
     "metadata": {},
     "output_type": "display_data"
    },
    {
     "data": {
      "application/vnd.jupyter.widget-view+json": {
       "model_id": "2dc783a264bb44b596a67dcfc636cc7b",
       "version_major": 2,
       "version_minor": 0
      },
      "text/plain": [
       "Map:   0%|          | 0/1488 [00:00<?, ? examples/s]"
      ]
     },
     "metadata": {},
     "output_type": "display_data"
    },
    {
     "data": {
      "application/vnd.jupyter.widget-view+json": {
       "model_id": "76ebc06582ab43deac90f57f1f98fb14",
       "version_major": 2,
       "version_minor": 0
      },
      "text/plain": [
       "Creating parquet from Arrow format:   0%|          | 0/15 [00:00<?, ?ba/s]"
      ]
     },
     "metadata": {},
     "output_type": "display_data"
    },
    {
     "data": {
      "application/vnd.jupyter.widget-view+json": {
       "model_id": "e19353e935d74adab2cf051c0f28edef",
       "version_major": 2,
       "version_minor": 0
      },
      "text/plain": [
       "Map:   0%|          | 0/1488 [00:00<?, ? examples/s]"
      ]
     },
     "metadata": {},
     "output_type": "display_data"
    },
    {
     "data": {
      "application/vnd.jupyter.widget-view+json": {
       "model_id": "296de01f712c4306953280888b8d3a13",
       "version_major": 2,
       "version_minor": 0
      },
      "text/plain": [
       "Creating parquet from Arrow format:   0%|          | 0/15 [00:00<?, ?ba/s]"
      ]
     },
     "metadata": {},
     "output_type": "display_data"
    },
    {
     "data": {
      "application/vnd.jupyter.widget-view+json": {
       "model_id": "c458c691e29b4b688c82051059de94b0",
       "version_major": 2,
       "version_minor": 0
      },
      "text/plain": [
       "Map:   0%|          | 0/1488 [00:00<?, ? examples/s]"
      ]
     },
     "metadata": {},
     "output_type": "display_data"
    },
    {
     "data": {
      "application/vnd.jupyter.widget-view+json": {
       "model_id": "5362229fcef147149b883b1594e2669f",
       "version_major": 2,
       "version_minor": 0
      },
      "text/plain": [
       "Creating parquet from Arrow format:   0%|          | 0/15 [00:00<?, ?ba/s]"
      ]
     },
     "metadata": {},
     "output_type": "display_data"
    },
    {
     "data": {
      "application/vnd.jupyter.widget-view+json": {
       "model_id": "3a7fd29ee968496a81a57d0a1344f3f1",
       "version_major": 2,
       "version_minor": 0
      },
      "text/plain": [
       "Map:   0%|          | 0/1488 [00:00<?, ? examples/s]"
      ]
     },
     "metadata": {},
     "output_type": "display_data"
    },
    {
     "data": {
      "application/vnd.jupyter.widget-view+json": {
       "model_id": "04c0cb12c57a4a58a0b077495b414cf1",
       "version_major": 2,
       "version_minor": 0
      },
      "text/plain": [
       "Creating parquet from Arrow format:   0%|          | 0/15 [00:00<?, ?ba/s]"
      ]
     },
     "metadata": {},
     "output_type": "display_data"
    },
    {
     "data": {
      "application/vnd.jupyter.widget-view+json": {
       "model_id": "2344e95b1edc40e6b796f9a55986ceff",
       "version_major": 2,
       "version_minor": 0
      },
      "text/plain": [
       "Map:   0%|          | 0/1488 [00:00<?, ? examples/s]"
      ]
     },
     "metadata": {},
     "output_type": "display_data"
    },
    {
     "data": {
      "application/vnd.jupyter.widget-view+json": {
       "model_id": "0da53697cb0a4260bd21b76bfce5810b",
       "version_major": 2,
       "version_minor": 0
      },
      "text/plain": [
       "Creating parquet from Arrow format:   0%|          | 0/15 [00:00<?, ?ba/s]"
      ]
     },
     "metadata": {},
     "output_type": "display_data"
    },
    {
     "data": {
      "application/vnd.jupyter.widget-view+json": {
       "model_id": "917e51c0fd0446b9a3fcc5ea47f33396",
       "version_major": 2,
       "version_minor": 0
      },
      "text/plain": [
       "Map:   0%|          | 0/1488 [00:00<?, ? examples/s]"
      ]
     },
     "metadata": {},
     "output_type": "display_data"
    },
    {
     "data": {
      "application/vnd.jupyter.widget-view+json": {
       "model_id": "a25d4a834698480db6c2076494876820",
       "version_major": 2,
       "version_minor": 0
      },
      "text/plain": [
       "Creating parquet from Arrow format:   0%|          | 0/15 [00:00<?, ?ba/s]"
      ]
     },
     "metadata": {},
     "output_type": "display_data"
    },
    {
     "data": {
      "application/vnd.jupyter.widget-view+json": {
       "model_id": "8c198b4f9f5845f2b9fbcd4d1f6d88c6",
       "version_major": 2,
       "version_minor": 0
      },
      "text/plain": [
       "Map:   0%|          | 0/1488 [00:00<?, ? examples/s]"
      ]
     },
     "metadata": {},
     "output_type": "display_data"
    },
    {
     "data": {
      "application/vnd.jupyter.widget-view+json": {
       "model_id": "e273482008f34b4aae7857035ddd565f",
       "version_major": 2,
       "version_minor": 0
      },
      "text/plain": [
       "Creating parquet from Arrow format:   0%|          | 0/15 [00:00<?, ?ba/s]"
      ]
     },
     "metadata": {},
     "output_type": "display_data"
    },
    {
     "data": {
      "application/vnd.jupyter.widget-view+json": {
       "model_id": "ff2300227ccf4401af1628a6e70a2105",
       "version_major": 2,
       "version_minor": 0
      },
      "text/plain": [
       "Map:   0%|          | 0/1488 [00:00<?, ? examples/s]"
      ]
     },
     "metadata": {},
     "output_type": "display_data"
    },
    {
     "data": {
      "application/vnd.jupyter.widget-view+json": {
       "model_id": "f59b1df71d194639b312e70d545ded93",
       "version_major": 2,
       "version_minor": 0
      },
      "text/plain": [
       "Creating parquet from Arrow format:   0%|          | 0/15 [00:00<?, ?ba/s]"
      ]
     },
     "metadata": {},
     "output_type": "display_data"
    },
    {
     "data": {
      "application/vnd.jupyter.widget-view+json": {
       "model_id": "3e2bf765b37c4b62bc57f0d42d221f54",
       "version_major": 2,
       "version_minor": 0
      },
      "text/plain": [
       "Map:   0%|          | 0/1488 [00:00<?, ? examples/s]"
      ]
     },
     "metadata": {},
     "output_type": "display_data"
    },
    {
     "data": {
      "application/vnd.jupyter.widget-view+json": {
       "model_id": "633166e966d444ba94a4bbcada607537",
       "version_major": 2,
       "version_minor": 0
      },
      "text/plain": [
       "Creating parquet from Arrow format:   0%|          | 0/15 [00:00<?, ?ba/s]"
      ]
     },
     "metadata": {},
     "output_type": "display_data"
    },
    {
     "data": {
      "application/vnd.jupyter.widget-view+json": {
       "model_id": "cad5c57ce2d1432eb390744bf8ccbd30",
       "version_major": 2,
       "version_minor": 0
      },
      "text/plain": [
       "Map:   0%|          | 0/1488 [00:00<?, ? examples/s]"
      ]
     },
     "metadata": {},
     "output_type": "display_data"
    },
    {
     "data": {
      "application/vnd.jupyter.widget-view+json": {
       "model_id": "aa954cdfa9544291aff87d6bbdfd9806",
       "version_major": 2,
       "version_minor": 0
      },
      "text/plain": [
       "Creating parquet from Arrow format:   0%|          | 0/15 [00:00<?, ?ba/s]"
      ]
     },
     "metadata": {},
     "output_type": "display_data"
    },
    {
     "data": {
      "application/vnd.jupyter.widget-view+json": {
       "model_id": "318488c2a9834594ab59dd5def68c0d4",
       "version_major": 2,
       "version_minor": 0
      },
      "text/plain": [
       "Map:   0%|          | 0/1488 [00:00<?, ? examples/s]"
      ]
     },
     "metadata": {},
     "output_type": "display_data"
    },
    {
     "data": {
      "application/vnd.jupyter.widget-view+json": {
       "model_id": "338a0a75cd944c3a8af285559c6e554c",
       "version_major": 2,
       "version_minor": 0
      },
      "text/plain": [
       "Creating parquet from Arrow format:   0%|          | 0/15 [00:00<?, ?ba/s]"
      ]
     },
     "metadata": {},
     "output_type": "display_data"
    },
    {
     "data": {
      "application/vnd.jupyter.widget-view+json": {
       "model_id": "232a16229315424d8fe1d1a15674e005",
       "version_major": 2,
       "version_minor": 0
      },
      "text/plain": [
       "Map:   0%|          | 0/1488 [00:00<?, ? examples/s]"
      ]
     },
     "metadata": {},
     "output_type": "display_data"
    },
    {
     "data": {
      "application/vnd.jupyter.widget-view+json": {
       "model_id": "5df411aa33c54a0fa56dacacfbcd749d",
       "version_major": 2,
       "version_minor": 0
      },
      "text/plain": [
       "Creating parquet from Arrow format:   0%|          | 0/15 [00:00<?, ?ba/s]"
      ]
     },
     "metadata": {},
     "output_type": "display_data"
    },
    {
     "data": {
      "application/vnd.jupyter.widget-view+json": {
       "model_id": "3cb8cd01f1fd42168aac5a643d847d7e",
       "version_major": 2,
       "version_minor": 0
      },
      "text/plain": [
       "Map:   0%|          | 0/1488 [00:00<?, ? examples/s]"
      ]
     },
     "metadata": {},
     "output_type": "display_data"
    },
    {
     "data": {
      "application/vnd.jupyter.widget-view+json": {
       "model_id": "f358167b87a04a9cb8497821f78903a5",
       "version_major": 2,
       "version_minor": 0
      },
      "text/plain": [
       "Creating parquet from Arrow format:   0%|          | 0/15 [00:00<?, ?ba/s]"
      ]
     },
     "metadata": {},
     "output_type": "display_data"
    },
    {
     "data": {
      "application/vnd.jupyter.widget-view+json": {
       "model_id": "f54cb14eb1b44491a447de519f96b80b",
       "version_major": 2,
       "version_minor": 0
      },
      "text/plain": [
       "Map:   0%|          | 0/1488 [00:00<?, ? examples/s]"
      ]
     },
     "metadata": {},
     "output_type": "display_data"
    },
    {
     "data": {
      "application/vnd.jupyter.widget-view+json": {
       "model_id": "7a360742e79744398a1c23f1325d5ddf",
       "version_major": 2,
       "version_minor": 0
      },
      "text/plain": [
       "Creating parquet from Arrow format:   0%|          | 0/15 [00:00<?, ?ba/s]"
      ]
     },
     "metadata": {},
     "output_type": "display_data"
    },
    {
     "data": {
      "application/vnd.jupyter.widget-view+json": {
       "model_id": "8b08fc83b94d41dc87920b823f0a9d10",
       "version_major": 2,
       "version_minor": 0
      },
      "text/plain": [
       "Map:   0%|          | 0/1488 [00:00<?, ? examples/s]"
      ]
     },
     "metadata": {},
     "output_type": "display_data"
    },
    {
     "data": {
      "application/vnd.jupyter.widget-view+json": {
       "model_id": "11252b1b7c764314a0b46c5b0fac3a19",
       "version_major": 2,
       "version_minor": 0
      },
      "text/plain": [
       "Creating parquet from Arrow format:   0%|          | 0/15 [00:00<?, ?ba/s]"
      ]
     },
     "metadata": {},
     "output_type": "display_data"
    },
    {
     "data": {
      "application/vnd.jupyter.widget-view+json": {
       "model_id": "fd6d9a1e62584ec4b0bcccfc7fc6e4fa",
       "version_major": 2,
       "version_minor": 0
      },
      "text/plain": [
       "Map:   0%|          | 0/1488 [00:00<?, ? examples/s]"
      ]
     },
     "metadata": {},
     "output_type": "display_data"
    },
    {
     "data": {
      "application/vnd.jupyter.widget-view+json": {
       "model_id": "a4956d8bec5e4f1abc570f9a1fd4cb7e",
       "version_major": 2,
       "version_minor": 0
      },
      "text/plain": [
       "Creating parquet from Arrow format:   0%|          | 0/15 [00:00<?, ?ba/s]"
      ]
     },
     "metadata": {},
     "output_type": "display_data"
    },
    {
     "data": {
      "application/vnd.jupyter.widget-view+json": {
       "model_id": "bb331f1b9a4745c298e94b0d672cf25c",
       "version_major": 2,
       "version_minor": 0
      },
      "text/plain": [
       "Map:   0%|          | 0/1488 [00:00<?, ? examples/s]"
      ]
     },
     "metadata": {},
     "output_type": "display_data"
    },
    {
     "data": {
      "application/vnd.jupyter.widget-view+json": {
       "model_id": "22cf35b471cf42379135f9caead3e92f",
       "version_major": 2,
       "version_minor": 0
      },
      "text/plain": [
       "Creating parquet from Arrow format:   0%|          | 0/15 [00:00<?, ?ba/s]"
      ]
     },
     "metadata": {},
     "output_type": "display_data"
    },
    {
     "data": {
      "application/vnd.jupyter.widget-view+json": {
       "model_id": "6d1850016d52431da2cc2a82c8addf09",
       "version_major": 2,
       "version_minor": 0
      },
      "text/plain": [
       "Map:   0%|          | 0/1488 [00:00<?, ? examples/s]"
      ]
     },
     "metadata": {},
     "output_type": "display_data"
    },
    {
     "data": {
      "application/vnd.jupyter.widget-view+json": {
       "model_id": "9ccf047c403a4266b9ade6e5fd0fca03",
       "version_major": 2,
       "version_minor": 0
      },
      "text/plain": [
       "Creating parquet from Arrow format:   0%|          | 0/15 [00:00<?, ?ba/s]"
      ]
     },
     "metadata": {},
     "output_type": "display_data"
    },
    {
     "data": {
      "application/vnd.jupyter.widget-view+json": {
       "model_id": "7da78cbb8f294c88addee452ade77f4f",
       "version_major": 2,
       "version_minor": 0
      },
      "text/plain": [
       "Map:   0%|          | 0/1488 [00:00<?, ? examples/s]"
      ]
     },
     "metadata": {},
     "output_type": "display_data"
    },
    {
     "data": {
      "application/vnd.jupyter.widget-view+json": {
       "model_id": "5927b86c2b444c238fb9cb9aecde913b",
       "version_major": 2,
       "version_minor": 0
      },
      "text/plain": [
       "Creating parquet from Arrow format:   0%|          | 0/15 [00:00<?, ?ba/s]"
      ]
     },
     "metadata": {},
     "output_type": "display_data"
    },
    {
     "data": {
      "application/vnd.jupyter.widget-view+json": {
       "model_id": "5c97f85b23d849529ff86da769f83310",
       "version_major": 2,
       "version_minor": 0
      },
      "text/plain": [
       "Map:   0%|          | 0/1488 [00:00<?, ? examples/s]"
      ]
     },
     "metadata": {},
     "output_type": "display_data"
    },
    {
     "data": {
      "application/vnd.jupyter.widget-view+json": {
       "model_id": "c67128bf7a174764a58f517229a36320",
       "version_major": 2,
       "version_minor": 0
      },
      "text/plain": [
       "Creating parquet from Arrow format:   0%|          | 0/15 [00:00<?, ?ba/s]"
      ]
     },
     "metadata": {},
     "output_type": "display_data"
    },
    {
     "data": {
      "application/vnd.jupyter.widget-view+json": {
       "model_id": "675935ac9a5a431080af7fde2d9ad709",
       "version_major": 2,
       "version_minor": 0
      },
      "text/plain": [
       "Map:   0%|          | 0/1488 [00:00<?, ? examples/s]"
      ]
     },
     "metadata": {},
     "output_type": "display_data"
    },
    {
     "data": {
      "application/vnd.jupyter.widget-view+json": {
       "model_id": "d9ec2e64757f43ee8f4779ed9d22d48a",
       "version_major": 2,
       "version_minor": 0
      },
      "text/plain": [
       "Creating parquet from Arrow format:   0%|          | 0/15 [00:00<?, ?ba/s]"
      ]
     },
     "metadata": {},
     "output_type": "display_data"
    },
    {
     "data": {
      "application/vnd.jupyter.widget-view+json": {
       "model_id": "d2d3bc4258f14df7b2ea6c7254479108",
       "version_major": 2,
       "version_minor": 0
      },
      "text/plain": [
       "Map:   0%|          | 0/1488 [00:00<?, ? examples/s]"
      ]
     },
     "metadata": {},
     "output_type": "display_data"
    },
    {
     "data": {
      "application/vnd.jupyter.widget-view+json": {
       "model_id": "ad5bebd60517487aa7065cb694c136cc",
       "version_major": 2,
       "version_minor": 0
      },
      "text/plain": [
       "Creating parquet from Arrow format:   0%|          | 0/15 [00:00<?, ?ba/s]"
      ]
     },
     "metadata": {},
     "output_type": "display_data"
    },
    {
     "data": {
      "application/vnd.jupyter.widget-view+json": {
       "model_id": "b6b491b41caf48618027c1af5163fc1e",
       "version_major": 2,
       "version_minor": 0
      },
      "text/plain": [
       "Map:   0%|          | 0/1488 [00:00<?, ? examples/s]"
      ]
     },
     "metadata": {},
     "output_type": "display_data"
    },
    {
     "data": {
      "application/vnd.jupyter.widget-view+json": {
       "model_id": "84bfb080667f4992853523c50622d881",
       "version_major": 2,
       "version_minor": 0
      },
      "text/plain": [
       "Creating parquet from Arrow format:   0%|          | 0/15 [00:00<?, ?ba/s]"
      ]
     },
     "metadata": {},
     "output_type": "display_data"
    },
    {
     "data": {
      "application/vnd.jupyter.widget-view+json": {
       "model_id": "7be6c1a76c7d4276bd33e9e5b98bcce2",
       "version_major": 2,
       "version_minor": 0
      },
      "text/plain": [
       "Map:   0%|          | 0/1488 [00:00<?, ? examples/s]"
      ]
     },
     "metadata": {},
     "output_type": "display_data"
    },
    {
     "data": {
      "application/vnd.jupyter.widget-view+json": {
       "model_id": "4d69493e2b724e94afb82fe344d7aa54",
       "version_major": 2,
       "version_minor": 0
      },
      "text/plain": [
       "Creating parquet from Arrow format:   0%|          | 0/15 [00:00<?, ?ba/s]"
      ]
     },
     "metadata": {},
     "output_type": "display_data"
    },
    {
     "data": {
      "application/vnd.jupyter.widget-view+json": {
       "model_id": "e7ac81d0956443fcb0808705f068b505",
       "version_major": 2,
       "version_minor": 0
      },
      "text/plain": [
       "Map:   0%|          | 0/1488 [00:00<?, ? examples/s]"
      ]
     },
     "metadata": {},
     "output_type": "display_data"
    },
    {
     "data": {
      "application/vnd.jupyter.widget-view+json": {
       "model_id": "bbc06fc7b7394cc589f220c6b9f49014",
       "version_major": 2,
       "version_minor": 0
      },
      "text/plain": [
       "Creating parquet from Arrow format:   0%|          | 0/15 [00:00<?, ?ba/s]"
      ]
     },
     "metadata": {},
     "output_type": "display_data"
    },
    {
     "data": {
      "application/vnd.jupyter.widget-view+json": {
       "model_id": "aead51ccd6a849b0afdb9706872ce993",
       "version_major": 2,
       "version_minor": 0
      },
      "text/plain": [
       "Map:   0%|          | 0/1488 [00:00<?, ? examples/s]"
      ]
     },
     "metadata": {},
     "output_type": "display_data"
    },
    {
     "data": {
      "application/vnd.jupyter.widget-view+json": {
       "model_id": "6d130f50431c4fd1b2666071fad278b4",
       "version_major": 2,
       "version_minor": 0
      },
      "text/plain": [
       "Creating parquet from Arrow format:   0%|          | 0/15 [00:00<?, ?ba/s]"
      ]
     },
     "metadata": {},
     "output_type": "display_data"
    },
    {
     "data": {
      "application/vnd.jupyter.widget-view+json": {
       "model_id": "3d94237a3b40435c9b613b5631d36cc5",
       "version_major": 2,
       "version_minor": 0
      },
      "text/plain": [
       "Map:   0%|          | 0/1488 [00:00<?, ? examples/s]"
      ]
     },
     "metadata": {},
     "output_type": "display_data"
    },
    {
     "data": {
      "application/vnd.jupyter.widget-view+json": {
       "model_id": "76a2814ad2794066940a5de2dc641d14",
       "version_major": 2,
       "version_minor": 0
      },
      "text/plain": [
       "Creating parquet from Arrow format:   0%|          | 0/15 [00:00<?, ?ba/s]"
      ]
     },
     "metadata": {},
     "output_type": "display_data"
    },
    {
     "data": {
      "application/vnd.jupyter.widget-view+json": {
       "model_id": "6cfa6c0d099c48398384e22d3a3312df",
       "version_major": 2,
       "version_minor": 0
      },
      "text/plain": [
       "Map:   0%|          | 0/1488 [00:00<?, ? examples/s]"
      ]
     },
     "metadata": {},
     "output_type": "display_data"
    },
    {
     "data": {
      "application/vnd.jupyter.widget-view+json": {
       "model_id": "31104769d36f47c68d6cf625d946a68d",
       "version_major": 2,
       "version_minor": 0
      },
      "text/plain": [
       "Creating parquet from Arrow format:   0%|          | 0/15 [00:00<?, ?ba/s]"
      ]
     },
     "metadata": {},
     "output_type": "display_data"
    },
    {
     "data": {
      "application/vnd.jupyter.widget-view+json": {
       "model_id": "bfaa3593cd2349f2acf07265135b9154",
       "version_major": 2,
       "version_minor": 0
      },
      "text/plain": [
       "Map:   0%|          | 0/1488 [00:00<?, ? examples/s]"
      ]
     },
     "metadata": {},
     "output_type": "display_data"
    },
    {
     "data": {
      "application/vnd.jupyter.widget-view+json": {
       "model_id": "700b124620964155adf98b95adb1c8a3",
       "version_major": 2,
       "version_minor": 0
      },
      "text/plain": [
       "Creating parquet from Arrow format:   0%|          | 0/15 [00:00<?, ?ba/s]"
      ]
     },
     "metadata": {},
     "output_type": "display_data"
    },
    {
     "data": {
      "application/vnd.jupyter.widget-view+json": {
       "model_id": "4a3670dcb8d9400fbbdc649783772278",
       "version_major": 2,
       "version_minor": 0
      },
      "text/plain": [
       "Map:   0%|          | 0/1488 [00:00<?, ? examples/s]"
      ]
     },
     "metadata": {},
     "output_type": "display_data"
    },
    {
     "data": {
      "application/vnd.jupyter.widget-view+json": {
       "model_id": "ec32cfbd98cf46f7ac2ec7e205519e11",
       "version_major": 2,
       "version_minor": 0
      },
      "text/plain": [
       "Creating parquet from Arrow format:   0%|          | 0/15 [00:00<?, ?ba/s]"
      ]
     },
     "metadata": {},
     "output_type": "display_data"
    },
    {
     "data": {
      "application/vnd.jupyter.widget-view+json": {
       "model_id": "c6c90a7b14dc48bab38009c8fdf26cad",
       "version_major": 2,
       "version_minor": 0
      },
      "text/plain": [
       "Map:   0%|          | 0/1488 [00:00<?, ? examples/s]"
      ]
     },
     "metadata": {},
     "output_type": "display_data"
    },
    {
     "data": {
      "application/vnd.jupyter.widget-view+json": {
       "model_id": "82595df434044bcfb082b5e26a246551",
       "version_major": 2,
       "version_minor": 0
      },
      "text/plain": [
       "Creating parquet from Arrow format:   0%|          | 0/15 [00:00<?, ?ba/s]"
      ]
     },
     "metadata": {},
     "output_type": "display_data"
    },
    {
     "data": {
      "application/vnd.jupyter.widget-view+json": {
       "model_id": "6433a0fd111f4204b438b10078823c68",
       "version_major": 2,
       "version_minor": 0
      },
      "text/plain": [
       "Map:   0%|          | 0/1488 [00:00<?, ? examples/s]"
      ]
     },
     "metadata": {},
     "output_type": "display_data"
    },
    {
     "data": {
      "application/vnd.jupyter.widget-view+json": {
       "model_id": "3bde43b70c5c49a7bb50f6a513c35d86",
       "version_major": 2,
       "version_minor": 0
      },
      "text/plain": [
       "Creating parquet from Arrow format:   0%|          | 0/15 [00:00<?, ?ba/s]"
      ]
     },
     "metadata": {},
     "output_type": "display_data"
    },
    {
     "data": {
      "application/vnd.jupyter.widget-view+json": {
       "model_id": "fac877ce02e14db5b5e0850c2a60512d",
       "version_major": 2,
       "version_minor": 0
      },
      "text/plain": [
       "Map:   0%|          | 0/1488 [00:00<?, ? examples/s]"
      ]
     },
     "metadata": {},
     "output_type": "display_data"
    },
    {
     "data": {
      "application/vnd.jupyter.widget-view+json": {
       "model_id": "3eb690fa065c453a933b5a5ac21dd6c5",
       "version_major": 2,
       "version_minor": 0
      },
      "text/plain": [
       "Creating parquet from Arrow format:   0%|          | 0/15 [00:00<?, ?ba/s]"
      ]
     },
     "metadata": {},
     "output_type": "display_data"
    },
    {
     "data": {
      "application/vnd.jupyter.widget-view+json": {
       "model_id": "a6b93c53a40d42cdbe184d3ceecc8f69",
       "version_major": 2,
       "version_minor": 0
      },
      "text/plain": [
       "Map:   0%|          | 0/1488 [00:00<?, ? examples/s]"
      ]
     },
     "metadata": {},
     "output_type": "display_data"
    },
    {
     "data": {
      "application/vnd.jupyter.widget-view+json": {
       "model_id": "8ad664e0bf2147fba966415526a093fb",
       "version_major": 2,
       "version_minor": 0
      },
      "text/plain": [
       "Creating parquet from Arrow format:   0%|          | 0/15 [00:00<?, ?ba/s]"
      ]
     },
     "metadata": {},
     "output_type": "display_data"
    },
    {
     "data": {
      "application/vnd.jupyter.widget-view+json": {
       "model_id": "2260e7151b7d4d579cecd7b3dc94f025",
       "version_major": 2,
       "version_minor": 0
      },
      "text/plain": [
       "Map:   0%|          | 0/1488 [00:00<?, ? examples/s]"
      ]
     },
     "metadata": {},
     "output_type": "display_data"
    },
    {
     "data": {
      "application/vnd.jupyter.widget-view+json": {
       "model_id": "25016e5e3b0b4549b10961f48d3dfccc",
       "version_major": 2,
       "version_minor": 0
      },
      "text/plain": [
       "Creating parquet from Arrow format:   0%|          | 0/15 [00:00<?, ?ba/s]"
      ]
     },
     "metadata": {},
     "output_type": "display_data"
    },
    {
     "data": {
      "application/vnd.jupyter.widget-view+json": {
       "model_id": "511ea2f3cc5c489b9277f0e92c96ea9a",
       "version_major": 2,
       "version_minor": 0
      },
      "text/plain": [
       "Map:   0%|          | 0/1488 [00:00<?, ? examples/s]"
      ]
     },
     "metadata": {},
     "output_type": "display_data"
    },
    {
     "data": {
      "application/vnd.jupyter.widget-view+json": {
       "model_id": "5ceabf2730654977a6324941160506c9",
       "version_major": 2,
       "version_minor": 0
      },
      "text/plain": [
       "Creating parquet from Arrow format:   0%|          | 0/15 [00:00<?, ?ba/s]"
      ]
     },
     "metadata": {},
     "output_type": "display_data"
    },
    {
     "data": {
      "application/vnd.jupyter.widget-view+json": {
       "model_id": "de5640067e704180878763818032cca6",
       "version_major": 2,
       "version_minor": 0
      },
      "text/plain": [
       "Map:   0%|          | 0/1487 [00:00<?, ? examples/s]"
      ]
     },
     "metadata": {},
     "output_type": "display_data"
    },
    {
     "data": {
      "application/vnd.jupyter.widget-view+json": {
       "model_id": "aed3d52e1d554f1faabda7dde7227d51",
       "version_major": 2,
       "version_minor": 0
      },
      "text/plain": [
       "Creating parquet from Arrow format:   0%|          | 0/15 [00:00<?, ?ba/s]"
      ]
     },
     "metadata": {},
     "output_type": "display_data"
    },
    {
     "data": {
      "application/vnd.jupyter.widget-view+json": {
       "model_id": "1e224d6de89f438b92ad35948e327755",
       "version_major": 2,
       "version_minor": 0
      },
      "text/plain": [
       "Map:   0%|          | 0/1487 [00:00<?, ? examples/s]"
      ]
     },
     "metadata": {},
     "output_type": "display_data"
    },
    {
     "data": {
      "application/vnd.jupyter.widget-view+json": {
       "model_id": "b996de5f34244dab8c1d8cfa8601fd31",
       "version_major": 2,
       "version_minor": 0
      },
      "text/plain": [
       "Creating parquet from Arrow format:   0%|          | 0/15 [00:00<?, ?ba/s]"
      ]
     },
     "metadata": {},
     "output_type": "display_data"
    },
    {
     "data": {
      "application/vnd.jupyter.widget-view+json": {
       "model_id": "466310a5e3a343298865bbc3e46fa874",
       "version_major": 2,
       "version_minor": 0
      },
      "text/plain": [
       "Uploading the dataset shards:   0%|          | 0/7 [00:00<?, ?it/s]"
      ]
     },
     "metadata": {},
     "output_type": "display_data"
    },
    {
     "data": {
      "application/vnd.jupyter.widget-view+json": {
       "model_id": "5380a013d0104ede8921f55c2e4669e6",
       "version_major": 2,
       "version_minor": 0
      },
      "text/plain": [
       "Map:   0%|          | 0/1394 [00:00<?, ? examples/s]"
      ]
     },
     "metadata": {},
     "output_type": "display_data"
    },
    {
     "data": {
      "application/vnd.jupyter.widget-view+json": {
       "model_id": "0abd902c7b7f43f399e78e8d489fee89",
       "version_major": 2,
       "version_minor": 0
      },
      "text/plain": [
       "Creating parquet from Arrow format:   0%|          | 0/14 [00:00<?, ?ba/s]"
      ]
     },
     "metadata": {},
     "output_type": "display_data"
    },
    {
     "data": {
      "application/vnd.jupyter.widget-view+json": {
       "model_id": "f691f4910760409c8287dceed9840f00",
       "version_major": 2,
       "version_minor": 0
      },
      "text/plain": [
       "Map:   0%|          | 0/1394 [00:00<?, ? examples/s]"
      ]
     },
     "metadata": {},
     "output_type": "display_data"
    },
    {
     "data": {
      "application/vnd.jupyter.widget-view+json": {
       "model_id": "2e840dd5b8fb4c378cecd7cc25dbba0c",
       "version_major": 2,
       "version_minor": 0
      },
      "text/plain": [
       "Creating parquet from Arrow format:   0%|          | 0/14 [00:00<?, ?ba/s]"
      ]
     },
     "metadata": {},
     "output_type": "display_data"
    },
    {
     "data": {
      "application/vnd.jupyter.widget-view+json": {
       "model_id": "079e02327b4548948451f0f9f3d953de",
       "version_major": 2,
       "version_minor": 0
      },
      "text/plain": [
       "Map:   0%|          | 0/1393 [00:00<?, ? examples/s]"
      ]
     },
     "metadata": {},
     "output_type": "display_data"
    },
    {
     "data": {
      "application/vnd.jupyter.widget-view+json": {
       "model_id": "9ec96ec4417a47e3910b9cebe358ba46",
       "version_major": 2,
       "version_minor": 0
      },
      "text/plain": [
       "Creating parquet from Arrow format:   0%|          | 0/14 [00:00<?, ?ba/s]"
      ]
     },
     "metadata": {},
     "output_type": "display_data"
    },
    {
     "data": {
      "application/vnd.jupyter.widget-view+json": {
       "model_id": "3ff9152879f143d8b896edf4394ea54e",
       "version_major": 2,
       "version_minor": 0
      },
      "text/plain": [
       "Map:   0%|          | 0/1393 [00:00<?, ? examples/s]"
      ]
     },
     "metadata": {},
     "output_type": "display_data"
    },
    {
     "data": {
      "application/vnd.jupyter.widget-view+json": {
       "model_id": "979368219b8f4343b04d7c3fda22ed2a",
       "version_major": 2,
       "version_minor": 0
      },
      "text/plain": [
       "Creating parquet from Arrow format:   0%|          | 0/14 [00:00<?, ?ba/s]"
      ]
     },
     "metadata": {},
     "output_type": "display_data"
    },
    {
     "data": {
      "application/vnd.jupyter.widget-view+json": {
       "model_id": "54d488eef99f4b61b9b656a2ed6c8201",
       "version_major": 2,
       "version_minor": 0
      },
      "text/plain": [
       "Map:   0%|          | 0/1393 [00:00<?, ? examples/s]"
      ]
     },
     "metadata": {},
     "output_type": "display_data"
    },
    {
     "data": {
      "application/vnd.jupyter.widget-view+json": {
       "model_id": "4a4da5cc64124eff92dc9befd04abc64",
       "version_major": 2,
       "version_minor": 0
      },
      "text/plain": [
       "Creating parquet from Arrow format:   0%|          | 0/14 [00:00<?, ?ba/s]"
      ]
     },
     "metadata": {},
     "output_type": "display_data"
    },
    {
     "data": {
      "application/vnd.jupyter.widget-view+json": {
       "model_id": "e2192bf2be7b44419c8c535195bb6ac8",
       "version_major": 2,
       "version_minor": 0
      },
      "text/plain": [
       "Map:   0%|          | 0/1393 [00:00<?, ? examples/s]"
      ]
     },
     "metadata": {},
     "output_type": "display_data"
    },
    {
     "data": {
      "application/vnd.jupyter.widget-view+json": {
       "model_id": "dbb287fdff7046fe919dc9eafacfda3e",
       "version_major": 2,
       "version_minor": 0
      },
      "text/plain": [
       "Creating parquet from Arrow format:   0%|          | 0/14 [00:00<?, ?ba/s]"
      ]
     },
     "metadata": {},
     "output_type": "display_data"
    },
    {
     "data": {
      "application/vnd.jupyter.widget-view+json": {
       "model_id": "a1c998c98bae46d2b918759eb7015000",
       "version_major": 2,
       "version_minor": 0
      },
      "text/plain": [
       "Map:   0%|          | 0/1393 [00:00<?, ? examples/s]"
      ]
     },
     "metadata": {},
     "output_type": "display_data"
    },
    {
     "data": {
      "application/vnd.jupyter.widget-view+json": {
       "model_id": "8770d1dbccd54a96a688920b6e67465e",
       "version_major": 2,
       "version_minor": 0
      },
      "text/plain": [
       "Creating parquet from Arrow format:   0%|          | 0/14 [00:00<?, ?ba/s]"
      ]
     },
     "metadata": {},
     "output_type": "display_data"
    },
    {
     "data": {
      "application/vnd.jupyter.widget-view+json": {
       "model_id": "eb2937250890422fb7331ff1eb08f4e8",
       "version_major": 2,
       "version_minor": 0
      },
      "text/plain": [
       "Uploading the dataset shards:   0%|          | 0/6 [00:00<?, ?it/s]"
      ]
     },
     "metadata": {},
     "output_type": "display_data"
    },
    {
     "data": {
      "application/vnd.jupyter.widget-view+json": {
       "model_id": "f8026b24563944aa831b92f527677d35",
       "version_major": 2,
       "version_minor": 0
      },
      "text/plain": [
       "Map:   0%|          | 0/1351 [00:00<?, ? examples/s]"
      ]
     },
     "metadata": {},
     "output_type": "display_data"
    },
    {
     "data": {
      "application/vnd.jupyter.widget-view+json": {
       "model_id": "288bb92604f048918b0e9ad13f5d534b",
       "version_major": 2,
       "version_minor": 0
      },
      "text/plain": [
       "Creating parquet from Arrow format:   0%|          | 0/14 [00:00<?, ?ba/s]"
      ]
     },
     "metadata": {},
     "output_type": "display_data"
    },
    {
     "data": {
      "application/vnd.jupyter.widget-view+json": {
       "model_id": "8c378d5ba26843bc82f272dbfa66a7a8",
       "version_major": 2,
       "version_minor": 0
      },
      "text/plain": [
       "Map:   0%|          | 0/1351 [00:00<?, ? examples/s]"
      ]
     },
     "metadata": {},
     "output_type": "display_data"
    },
    {
     "data": {
      "application/vnd.jupyter.widget-view+json": {
       "model_id": "c4151356754d43c79e77671696077bd3",
       "version_major": 2,
       "version_minor": 0
      },
      "text/plain": [
       "Creating parquet from Arrow format:   0%|          | 0/14 [00:00<?, ?ba/s]"
      ]
     },
     "metadata": {},
     "output_type": "display_data"
    },
    {
     "data": {
      "application/vnd.jupyter.widget-view+json": {
       "model_id": "2886d8d417194bb896fb6cef3310a2c7",
       "version_major": 2,
       "version_minor": 0
      },
      "text/plain": [
       "Map:   0%|          | 0/1351 [00:00<?, ? examples/s]"
      ]
     },
     "metadata": {},
     "output_type": "display_data"
    },
    {
     "data": {
      "application/vnd.jupyter.widget-view+json": {
       "model_id": "77cca9c5ee514cf4b940711040f2c4fd",
       "version_major": 2,
       "version_minor": 0
      },
      "text/plain": [
       "Creating parquet from Arrow format:   0%|          | 0/14 [00:00<?, ?ba/s]"
      ]
     },
     "metadata": {},
     "output_type": "display_data"
    },
    {
     "data": {
      "application/vnd.jupyter.widget-view+json": {
       "model_id": "d65eeccc98cf4104b4b4f8e3e38bc9b3",
       "version_major": 2,
       "version_minor": 0
      },
      "text/plain": [
       "Map:   0%|          | 0/1350 [00:00<?, ? examples/s]"
      ]
     },
     "metadata": {},
     "output_type": "display_data"
    },
    {
     "data": {
      "application/vnd.jupyter.widget-view+json": {
       "model_id": "62343592daa8403db285ec018aef631a",
       "version_major": 2,
       "version_minor": 0
      },
      "text/plain": [
       "Creating parquet from Arrow format:   0%|          | 0/14 [00:00<?, ?ba/s]"
      ]
     },
     "metadata": {},
     "output_type": "display_data"
    },
    {
     "data": {
      "application/vnd.jupyter.widget-view+json": {
       "model_id": "d316c1a8980f471d90d9f2a8b28260fe",
       "version_major": 2,
       "version_minor": 0
      },
      "text/plain": [
       "Map:   0%|          | 0/1350 [00:00<?, ? examples/s]"
      ]
     },
     "metadata": {},
     "output_type": "display_data"
    },
    {
     "data": {
      "application/vnd.jupyter.widget-view+json": {
       "model_id": "9438c20322234999b99aab359fb2104a",
       "version_major": 2,
       "version_minor": 0
      },
      "text/plain": [
       "Creating parquet from Arrow format:   0%|          | 0/14 [00:00<?, ?ba/s]"
      ]
     },
     "metadata": {},
     "output_type": "display_data"
    },
    {
     "data": {
      "application/vnd.jupyter.widget-view+json": {
       "model_id": "d8a21202c0fd418495bd2e12925af746",
       "version_major": 2,
       "version_minor": 0
      },
      "text/plain": [
       "Map:   0%|          | 0/1350 [00:00<?, ? examples/s]"
      ]
     },
     "metadata": {},
     "output_type": "display_data"
    },
    {
     "data": {
      "application/vnd.jupyter.widget-view+json": {
       "model_id": "0fc85f011788447f8cee6f6f947d813f",
       "version_major": 2,
       "version_minor": 0
      },
      "text/plain": [
       "Creating parquet from Arrow format:   0%|          | 0/14 [00:00<?, ?ba/s]"
      ]
     },
     "metadata": {},
     "output_type": "display_data"
    },
    {
     "data": {
      "application/vnd.jupyter.widget-view+json": {
       "model_id": "12122ea83b1f487ebb1982b3a72bd8be",
       "version_major": 2,
       "version_minor": 0
      },
      "text/plain": [
       "README.md:   0%|          | 0.00/3.77k [00:00<?, ?B/s]"
      ]
     },
     "metadata": {},
     "output_type": "display_data"
    },
    {
     "name": "stderr",
     "output_type": "stream",
     "text": [
      "No files have been modified since last commit. Skipping to prevent empty commit.\n",
      "No files have been modified since last commit. Skipping to prevent empty commit.\n"
     ]
    },
    {
     "data": {
      "text/plain": [
       "CommitInfo(commit_url='https://huggingface.co/datasets/TobanDjan/isic_full/commit/b41ec26e16d7863e94c5bf84323e91fdf708fb17', commit_message='Upload dataset (part 00001-of-00002)', commit_description='', oid='b41ec26e16d7863e94c5bf84323e91fdf708fb17', pr_url=None, pr_revision=None, pr_num=None)"
      ]
     },
     "execution_count": 11,
     "metadata": {},
     "output_type": "execute_result"
    }
   ],
   "source": [
    "printenc(\"Upload to HF\")\n",
    "\n",
    "IMG_PER_SHARD = 1500\n",
    "nshard_dict = dict()\n",
    "\n",
    "for use, md in md_splits.items():\n",
    "    nshard_dict[use] = int(np.ceil(md.shape[0] / IMG_PER_SHARD))\n",
    "\n",
    "# if shard is not specified it will try to do it in one shard with batch size 1000,\n",
    "# and memory will run out.\n",
    "# max_shard_size doesn't split as expected. \n",
    "hf_full.push_to_hub('TobanDjan/isic_full', num_shards = nshard_dict)"
   ]
  }
 ],
 "metadata": {
  "kernelspec": {
   "display_name": "Python 3 (ipykernel)",
   "language": "python",
   "name": "python3"
  },
  "language_info": {
   "codemirror_mode": {
    "name": "ipython",
    "version": 3
   },
   "file_extension": ".py",
   "mimetype": "text/x-python",
   "name": "python",
   "nbconvert_exporter": "python",
   "pygments_lexer": "ipython3",
   "version": "3.10.14"
  }
 },
 "nbformat": 4,
 "nbformat_minor": 5
}
