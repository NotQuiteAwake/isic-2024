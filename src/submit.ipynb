{
 "cells": [
  {
   "cell_type": "code",
   "execution_count": 1,
   "id": "de290b2b",
   "metadata": {
    "_cell_guid": "b1076dfc-b9ad-4769-8c92-a6c4dae69d19",
    "_uuid": "8f2839f25d086af736a60e9eeb907d3b93b6e0e5",
    "execution": {
     "iopub.execute_input": "2024-08-30T17:38:08.698813Z",
     "iopub.status.busy": "2024-08-30T17:38:08.698432Z",
     "iopub.status.idle": "2024-08-30T17:38:28.706454Z",
     "shell.execute_reply": "2024-08-30T17:38:28.705432Z"
    },
    "papermill": {
     "duration": 20.015572,
     "end_time": "2024-08-30T17:38:28.709853",
     "exception": false,
     "start_time": "2024-08-30T17:38:08.694281",
     "status": "completed"
    },
    "tags": []
   },
   "outputs": [
    {
     "name": "stderr",
     "output_type": "stream",
     "text": [
      "/opt/conda/lib/python3.10/site-packages/torchvision/transforms/v2/_deprecated.py:42: UserWarning: The transform `ToTensor()` is deprecated and will be removed in a future release. Instead, please use `v2.Compose([v2.ToImage(), v2.ToDtype(torch.float32, scale=True)])`.Output is equivalent up to float precision.\n",
      "  warnings.warn(\n",
      "100%|██████████| 3/3 [00:00<00:00, 1087.36it/s]\n"
     ]
    }
   ],
   "source": [
    "# https://www.kaggle.com/code/nosherwantahir/notebookea3cca46ba\n",
    "\n",
    "import io\n",
    "\n",
    "import numpy as np\n",
    "from scipy.special import softmax\n",
    "import h5py\n",
    "import pandas as pd\n",
    "from PIL import Image\n",
    "\n",
    "import matplotlib.pyplot as plt\n",
    "from matplotlib.pyplot import imshow\n",
    "\n",
    "import torch\n",
    "from torchvision.transforms import v2 as transforms\n",
    "from transformers import ViTForImageClassification, ViTImageProcessor\n",
    "from torch.utils.data import Dataset, DataLoader\n",
    "\n",
    "from tqdm import tqdm\n",
    "\n",
    "val_transform = transforms.Compose(\n",
    "    [\n",
    "        transforms.Resize((224, 224)),\n",
    "        transforms.ToTensor(),\n",
    "        transforms.Normalize([0.485, 0.456, 0.406], [0.229, 0.224, 0.225])\n",
    "    ]\n",
    ")\n",
    "\n",
    "# !ls /kaggle/input/vit_base_batch_64/transformers/default/1\n",
    "model_path = '/kaggle/input/vit_base_batch_64/transformers/default/1/'\n",
    "train_hdf_path = '/kaggle/input/isic-2024-challenge/train-image.hdf5'\n",
    "hdf_file_path = '/kaggle/input/isic-2024-challenge/test-image.hdf5'\n",
    "\n",
    "# Function to load images from encoded data\n",
    "def load_image_from_encoded_data(encoded_data):\n",
    "    image = Image.open(io.BytesIO(encoded_data))\n",
    "    return image.convert('RGB')\n",
    "\n",
    "# Define a custom Dataset for the HDF5 images\n",
    "class HDF5TestDataset(Dataset):\n",
    "    def __init__(self, image_data, ids, transform=None):\n",
    "        self.image_data = image_data\n",
    "        self.ids = ids\n",
    "        self.transform = transform\n",
    "\n",
    "    def __len__(self):\n",
    "        return len(self.image_data)\n",
    "\n",
    "    def __getitem__(self, idx):\n",
    "        image_data = self.image_data[idx]\n",
    "        image = load_image_from_encoded_data(image_data)\n",
    "        #imshow(image)\n",
    "        #plt.show()\n",
    "        if self.transform:\n",
    "            image = self.transform(image)\n",
    "        \n",
    "        # https://stackoverflow.com/a/76866298\n",
    "        # print(image.element_size() * image.nelement())\n",
    "        # 602112 B = 0.574 MB\n",
    "        # P100 has 16G GRAM, can hold about 2**14 images???\n",
    "        return image, self.ids[idx]\n",
    "\n",
    "# Load the HDF5 file and extract images and IDs\n",
    "with h5py.File(hdf_file_path, 'r') as f:\n",
    "    image_data = [f[image_id][()] for image_id in tqdm(f.keys())]\n",
    "    ids = list(f.keys())"
   ]
  },
  {
   "cell_type": "code",
   "execution_count": 2,
   "id": "1b3a9058",
   "metadata": {
    "execution": {
     "iopub.execute_input": "2024-08-30T17:38:28.716465Z",
     "iopub.status.busy": "2024-08-30T17:38:28.715845Z",
     "iopub.status.idle": "2024-08-30T17:38:35.033958Z",
     "shell.execute_reply": "2024-08-30T17:38:35.032752Z"
    },
    "papermill": {
     "duration": 6.324054,
     "end_time": "2024-08-30T17:38:35.036617",
     "exception": false,
     "start_time": "2024-08-30T17:38:28.712563",
     "status": "completed"
    },
    "tags": []
   },
   "outputs": [
    {
     "name": "stderr",
     "output_type": "stream",
     "text": [
      "  0%|          | 0/1 [00:00<?, ?it/s]/opt/conda/lib/python3.10/multiprocessing/popen_fork.py:66: RuntimeWarning: os.fork() was called. os.fork() is incompatible with multithreaded code, and JAX is multithreaded, so this will likely lead to a deadlock.\n",
      "  self.pid = os.fork()\n",
      "100%|██████████| 1/1 [00:00<00:00,  1.13it/s]/opt/conda/lib/python3.10/multiprocessing/popen_fork.py:66: RuntimeWarning: os.fork() was called. os.fork() is incompatible with multithreaded code, and JAX is multithreaded, so this will likely lead to a deadlock.\n",
      "  self.pid = os.fork()\n",
      "100%|██████████| 1/1 [00:00<00:00,  1.09it/s]"
     ]
    },
    {
     "name": "stdout",
     "output_type": "stream",
     "text": [
      "        isic_id    target\n",
      "0  ISIC_0015657  0.000365\n",
      "1  ISIC_0015729  0.000057\n",
      "2  ISIC_0015740  0.000146\n"
     ]
    },
    {
     "name": "stderr",
     "output_type": "stream",
     "text": [
      "\n"
     ]
    }
   ],
   "source": [
    "# Create the test dataset and dataloader\n",
    "test_dataset = HDF5TestDataset(image_data=image_data, ids=ids, transform=val_transform)\n",
    "test_dataloader = DataLoader(test_dataset, batch_size=2**10, shuffle=False, num_workers=4)\n",
    "\n",
    "# https://github.com/pytorch/pytorch/issues/37726#issuecomment-623064132\n",
    "# https://github.com/pytorch/pytorch/issues/72117#issuecomment-1242802837\n",
    "# !nvidia-smi -r\n",
    "# torch.cuda.empty_cache()\n",
    "\n",
    "device = torch.device(\"cuda\")\n",
    "model = ViTForImageClassification.from_pretrained(model_path)\n",
    "model.to(device)\n",
    "\n",
    "results = {'isic_id': [], 'target': []}\n",
    "\n",
    "with torch.no_grad():\n",
    "    for inputs, batch_ids in tqdm(test_dataloader, total = len(test_dataloader)):\n",
    "        inputs = inputs.to(device)\n",
    "        # print(inputs.element_size() * inputs.nelement())\n",
    "        outputs = model(inputs)\n",
    "        outputs = outputs.logits.cpu()\n",
    "\n",
    "        outputs = softmax(outputs, axis=1)[:, 1]\n",
    "        \n",
    "        results['isic_id'].extend(batch_ids)\n",
    "        results['target'].extend(outputs)\n",
    "        \n",
    "results_df = pd.DataFrame.from_dict(results)\n",
    "\n",
    "print(results_df.head())\n",
    "\n",
    "results_df.to_csv('submission.csv', index = False)"
   ]
  },
  {
   "cell_type": "code",
   "execution_count": 3,
   "id": "9c1d8c4e",
   "metadata": {
    "execution": {
     "iopub.execute_input": "2024-08-30T17:38:35.044690Z",
     "iopub.status.busy": "2024-08-30T17:38:35.043831Z",
     "iopub.status.idle": "2024-08-30T17:38:37.115441Z",
     "shell.execute_reply": "2024-08-30T17:38:37.114131Z"
    },
    "papermill": {
     "duration": 2.078287,
     "end_time": "2024-08-30T17:38:37.118007",
     "exception": false,
     "start_time": "2024-08-30T17:38:35.039720",
     "status": "completed"
    },
    "tags": []
   },
   "outputs": [
    {
     "name": "stderr",
     "output_type": "stream",
     "text": [
      "/opt/conda/lib/python3.10/pty.py:89: RuntimeWarning: os.fork() was called. os.fork() is incompatible with multithreaded code, and JAX is multithreaded, so this will likely lead to a deadlock.\n",
      "  pid, fd = os.forkpty()\n"
     ]
    },
    {
     "name": "stdout",
     "output_type": "stream",
     "text": [
      "isic-2024-challenge  vit_base_batch_64\r\n",
      "Architecture:             x86_64\r\n",
      "  CPU op-mode(s):         32-bit, 64-bit\r\n",
      "  Address sizes:          46 bits physical, 48 bits virtual\r\n",
      "  Byte Order:             Little Endian\r\n",
      "CPU(s):                   4\r\n",
      "  On-line CPU(s) list:    0-3\r\n",
      "Vendor ID:                GenuineIntel\r\n",
      "  Model name:             Intel(R) Xeon(R) CPU @ 2.00GHz\r\n",
      "    CPU family:           6\r\n",
      "    Model:                85\r\n",
      "    Thread(s) per core:   2\r\n",
      "    Core(s) per socket:   2\r\n",
      "    Socket(s):            1\r\n",
      "    Stepping:             3\r\n",
      "    BogoMIPS:             4000.38\r\n",
      "    Flags:                fpu vme de pse tsc msr pae mce cx8 apic sep mtrr pge m\r\n",
      "                          ca cmov pat pse36 clflush mmx fxsr sse sse2 ss ht sysc\r\n",
      "                          all nx pdpe1gb rdtscp lm constant_tsc rep_good nopl xt\r\n",
      "                          opology nonstop_tsc cpuid tsc_known_freq pni pclmulqdq\r\n",
      "                           ssse3 fma cx16 pcid sse4_1 sse4_2 x2apic movbe popcnt\r\n",
      "                           aes xsave avx f16c rdrand hypervisor lahf_lm abm 3dno\r\n",
      "                          wprefetch invpcid_single pti ssbd ibrs ibpb stibp fsgs\r\n",
      "                          base tsc_adjust bmi1 hle avx2 smep bmi2 erms invpcid r\r\n",
      "                          tm mpx avx512f avx512dq rdseed adx smap clflushopt clw\r\n",
      "                          b avx512cd avx512bw avx512vl xsaveopt xsavec xgetbv1 x\r\n",
      "                          saves arat md_clear arch_capabilities\r\n",
      "Virtualization features:  \r\n",
      "  Hypervisor vendor:      KVM\r\n",
      "  Virtualization type:    full\r\n",
      "Caches (sum of all):      \r\n",
      "  L1d:                    64 KiB (2 instances)\r\n",
      "  L1i:                    64 KiB (2 instances)\r\n",
      "  L2:                     2 MiB (2 instances)\r\n",
      "  L3:                     38.5 MiB (1 instance)\r\n",
      "NUMA:                     \r\n",
      "  NUMA node(s):           1\r\n",
      "  NUMA node0 CPU(s):      0-3\r\n",
      "Vulnerabilities:          \r\n",
      "  Gather data sampling:   Not affected\r\n",
      "  Itlb multihit:          Not affected\r\n",
      "  L1tf:                   Mitigation; PTE Inversion\r\n",
      "  Mds:                    Mitigation; Clear CPU buffers; SMT Host state unknown\r\n",
      "  Meltdown:               Mitigation; PTI\r\n",
      "  Mmio stale data:        Vulnerable: Clear CPU buffers attempted, no microcode;\r\n",
      "                           SMT Host state unknown\r\n",
      "  Reg file data sampling: Not affected\r\n",
      "  Retbleed:               Mitigation; IBRS\r\n",
      "  Spec rstack overflow:   Not affected\r\n",
      "  Spec store bypass:      Mitigation; Speculative Store Bypass disabled via prct\r\n",
      "                          l and seccomp\r\n",
      "  Spectre v1:             Mitigation; usercopy/swapgs barriers and __user pointe\r\n",
      "                          r sanitization\r\n",
      "  Spectre v2:             Mitigation; IBRS; IBPB conditional; STIBP conditional;\r\n",
      "                           RSB filling; PBRSB-eIBRS Not affected; BHI SW loop, K\r\n",
      "                          VM SW loop\r\n",
      "  Srbds:                  Not affected\r\n",
      "  Tsx async abort:        Mitigation; Clear CPU buffers; SMT Host state unknown\r\n"
     ]
    }
   ],
   "source": [
    "!ls /kaggle/input/\n",
    "!lscpu"
   ]
  }
 ],
 "metadata": {
  "kaggle": {
   "accelerator": "gpu",
   "dataSources": [
    {
     "databundleVersionId": 9094797,
     "sourceId": 63056,
     "sourceType": "competition"
    },
    {
     "modelId": 111473,
     "modelInstanceId": 87232,
     "sourceId": 104067,
     "sourceType": "modelInstanceVersion"
    }
   ],
   "dockerImageVersionId": 30762,
   "isGpuEnabled": true,
   "isInternetEnabled": false,
   "language": "python",
   "sourceType": "notebook"
  },
  "kernelspec": {
   "display_name": "Python 3",
   "language": "python",
   "name": "python3"
  },
  "language_info": {
   "codemirror_mode": {
    "name": "ipython",
    "version": 3
   },
   "file_extension": ".py",
   "mimetype": "text/x-python",
   "name": "python",
   "nbconvert_exporter": "python",
   "pygments_lexer": "ipython3",
   "version": "3.10.14"
  },
  "papermill": {
   "default_parameters": {},
   "duration": 34.766428,
   "end_time": "2024-08-30T17:38:40.555628",
   "environment_variables": {},
   "exception": null,
   "input_path": "__notebook__.ipynb",
   "output_path": "__notebook__.ipynb",
   "parameters": {},
   "start_time": "2024-08-30T17:38:05.789200",
   "version": "2.6.0"
  }
 },
 "nbformat": 4,
 "nbformat_minor": 5
}
