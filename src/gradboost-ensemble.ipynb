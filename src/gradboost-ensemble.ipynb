{
 "cells": [
  {
   "cell_type": "markdown",
   "id": "7240b356",
   "metadata": {
    "papermill": {
     "duration": 0.005738,
     "end_time": "2024-09-02T17:28:49.497868",
     "exception": false,
     "start_time": "2024-09-02T17:28:49.492130",
     "status": "completed"
    },
    "tags": []
   },
   "source": [
    "https://www.kaggle.com/code/abdmental01/multimodel-isic"
   ]
  },
  {
   "cell_type": "code",
   "execution_count": 1,
   "id": "995f2898",
   "metadata": {
    "execution": {
     "iopub.execute_input": "2024-09-02T17:28:49.511278Z",
     "iopub.status.busy": "2024-09-02T17:28:49.510342Z",
     "iopub.status.idle": "2024-09-02T17:28:54.715023Z",
     "shell.execute_reply": "2024-09-02T17:28:54.713870Z"
    },
    "papermill": {
     "duration": 5.214198,
     "end_time": "2024-09-02T17:28:54.717796",
     "exception": false,
     "start_time": "2024-09-02T17:28:49.503598",
     "status": "completed"
    },
    "tags": []
   },
   "outputs": [],
   "source": [
    "import warnings\n",
    "warnings.filterwarnings(\"ignore\")\n",
    "\n",
    "import pandas as pd\n",
    "import numpy as np\n",
    "import seaborn as sns\n",
    "\n",
    "from sklearn.model_selection import *\n",
    "from sklearn.preprocessing import *\n",
    "\n",
    "from lightgbm import LGBMClassifier\n",
    "from catboost import CatBoostClassifier\n",
    "from xgboost import XGBClassifier\n",
    "\n",
    "from sklearn.metrics import *\n",
    "from sklearn.experimental import enable_iterative_imputer\n",
    "from sklearn.impute import IterativeImputer\n",
    "from sklearn.feature_extraction.text import TfidfVectorizer\n",
    "from sklearn.decomposition import TruncatedSVD\n",
    "\n",
    "pd.set_option('display.max_columns', None)\n",
    "\n",
    "from sklearn.model_selection import StratifiedKFold\n",
    "from sklearn.preprocessing import OrdinalEncoder\n",
    "import category_encoders as ce\n",
    "\n",
    "from tqdm import tqdm\n",
    "\n",
    "SEED = 42\n",
    "n_splits = 3"
   ]
  },
  {
   "cell_type": "markdown",
   "id": "6c150676",
   "metadata": {
    "papermill": {
     "duration": 0.004951,
     "end_time": "2024-09-02T17:28:54.728136",
     "exception": false,
     "start_time": "2024-09-02T17:28:54.723185",
     "status": "completed"
    },
    "tags": []
   },
   "source": [
    "# Load and preprocess data"
   ]
  },
  {
   "cell_type": "code",
   "execution_count": 2,
   "id": "0b8a7c5c",
   "metadata": {
    "execution": {
     "iopub.execute_input": "2024-09-02T17:28:54.740803Z",
     "iopub.status.busy": "2024-09-02T17:28:54.740133Z",
     "iopub.status.idle": "2024-09-02T17:29:04.188759Z",
     "shell.execute_reply": "2024-09-02T17:29:04.187485Z"
    },
    "papermill": {
     "duration": 9.458003,
     "end_time": "2024-09-02T17:29:04.191483",
     "exception": false,
     "start_time": "2024-09-02T17:28:54.733480",
     "status": "completed"
    },
    "tags": []
   },
   "outputs": [
    {
     "name": "stdout",
     "output_type": "stream",
     "text": [
      "Columns present in test but not in train: set()\n",
      "Columns present in train but not in test: {'iddx_1', 'tbp_lv_dnn_lesion_confidence', 'iddx_5', 'iddx_3', 'mel_thick_mm', 'target', 'iddx_2', 'lesion_id', 'mel_mitotic_index', 'iddx_4', 'iddx_full'}\n",
      "CPU times: user 6.49 s, sys: 743 ms, total: 7.23 s\n",
      "Wall time: 9.44 s\n"
     ]
    }
   ],
   "source": [
    "%%time \n",
    "\n",
    "test = pd.read_csv('/kaggle/input/isic-2024-challenge/test-metadata.csv')\n",
    "train = pd.read_csv('/kaggle/input/isic-2024-challenge/train-metadata.csv')\n",
    "\n",
    "train.drop('isic_id',axis=1,inplace=True)\n",
    "test.drop('isic_id',axis=1,inplace=True)\n",
    "\n",
    "test_columns = set(test.columns)\n",
    "train_columns = set(train.columns)\n",
    "\n",
    "diff_test_train = test_columns - train_columns\n",
    "diff_train_test = train_columns - test_columns\n",
    "\n",
    "if not diff_test_train and not diff_train_test:\n",
    "    print(\"Both DataFrames have the same columns.\")\n",
    "else:\n",
    "    print(\"Columns present in test but not in train:\", diff_test_train)\n",
    "    print(\"Columns present in train but not in test:\", diff_train_test)\n",
    "\n",
    "train.drop(columns=['iddx_4', 'mel_mitotic_index', 'iddx_1', 'lesion_id', 'tbp_lv_dnn_lesion_confidence',\n",
    "                    'iddx_5', 'mel_thick_mm', 'iddx_2', 'iddx_full', 'iddx_3'],inplace=True)"
   ]
  },
  {
   "cell_type": "code",
   "execution_count": 3,
   "id": "1edaba00",
   "metadata": {
    "execution": {
     "iopub.execute_input": "2024-09-02T17:29:04.204921Z",
     "iopub.status.busy": "2024-09-02T17:29:04.204105Z",
     "iopub.status.idle": "2024-09-02T17:29:09.015454Z",
     "shell.execute_reply": "2024-09-02T17:29:09.014346Z"
    },
    "papermill": {
     "duration": 4.821125,
     "end_time": "2024-09-02T17:29:09.018241",
     "exception": false,
     "start_time": "2024-09-02T17:29:04.197116",
     "status": "completed"
    },
    "tags": []
   },
   "outputs": [],
   "source": [
    "def fe(df):\n",
    "    \n",
    "    # a sort of eccentricity\n",
    "    df[\"lesion_size_ratio\"]=df[\"tbp_lv_minorAxisMM\"]/df[\"clin_size_long_diam_mm\"]\n",
    "    # another dimensionless measure of eccentricity (think circle / square)\n",
    "    df[\"lesion_shape_index\"]=df[\"tbp_lv_areaMM2\"]/(df[\"tbp_lv_perimeterMM\"]**2)\n",
    "    # contrast between hue inside and outside\n",
    "    df[\"hue_contrast\"]= (df[\"tbp_lv_H\"]-df[\"tbp_lv_Hext\"]).abs()\n",
    "    # contrast between luminance inside and outside\n",
    "    df[\"luminance_contrast\"]= (df[\"tbp_lv_L\"]-df[\"tbp_lv_Lext\"]).abs()\n",
    "    # LAB is another color space similar to RGB. delta's are inside v. outside.\n",
    "    df[\"lesion_color_difference\"]=np.sqrt(df[\"tbp_lv_deltaA\"]**2+df[\"tbp_lv_deltaB\"]**2+df[\"tbp_lv_deltaL\"]**2)\n",
    "    # both metrics increase when asymmetry is higher and are on scale 0-10\n",
    "    df[\"border_complexity\"]=df[\"tbp_lv_norm_border\"]+df[\"tbp_lv_symm_2axis\"]\n",
    "    # position on 3D TBP\n",
    "    df[\"3d_position_distance\"]=np.sqrt(df[\"tbp_lv_x\"]**2+df[\"tbp_lv_y\"]**2+df[\"tbp_lv_z\"]**2)\n",
    "    # another measure of irregularity...?\n",
    "    df[\"perimeter_to_area_ratio\"]=df[\"tbp_lv_perimeterMM\"]/df[\"tbp_lv_areaMM2\"]\n",
    "    # contrast between lesion and surrounding, values from 5-25 + color variation 0 - 10\n",
    "    df[\"lesion_visibility_score\"]=df[\"tbp_lv_deltaLBnorm\"]+df[\"tbp_lv_norm_color\"]\n",
    "    # both are location indicators\n",
    "    df[\"combined_anatomical_site\"]=df[\"anatom_site_general\"]+\"_\"+df[\"tbp_lv_location\"]\n",
    "    # only when both are large does a lesion score high on this (cf border_complexity)\n",
    "    df[\"symmetry_border_consistency\"]=df[\"tbp_lv_symm_2axis\"]*df[\"tbp_lv_norm_border\"]\n",
    "    # whether the variation in color is similar inside and outside lesion\n",
    "    df[\"color_consistency\"]=df[\"tbp_lv_stdL\"]/df[\"tbp_lv_stdLExt\"]\n",
    "    # interactions are just products\n",
    "    df[\"size_age_interaction\"]=df[\"clin_size_long_diam_mm\"]*df[\"age_approx\"]\n",
    "    # hue inside and color irregularity\n",
    "    df[\"hue_color_std_interaction\"]=df[\"tbp_lv_H\"]*df[\"tbp_lv_color_std_mean\"]\n",
    "    # three measures of irregularity combined.\n",
    "    df[\"lesion_severity_index\"]=(df[\"tbp_lv_norm_border\"]+df[\"tbp_lv_norm_color\"]+df[\"tbp_lv_eccentricity\"])/3\n",
    "    df[\"shape_complexity_index\"]=df[\"border_complexity\"]+df[\"lesion_shape_index\"]\n",
    "    # first three terms are average contrast, last term is contrast in immediately surrounding skin\n",
    "    df[\"color_contrast_index\"]=df[\"tbp_lv_deltaA\"]+df[\"tbp_lv_deltaB\"]+df[\"tbp_lv_deltaL\"]+df[\"tbp_lv_deltaLBnorm\"]\n",
    "    # the malignant lesions can be way longer and a log scale might better capture this\n",
    "    df[\"log_lesion_area\"]=np.log(df[\"tbp_lv_areaMM2\"]+1)\n",
    "    # perhaps lesion gorws in size with age.\n",
    "    df[\"normalized_lesion_size\"]=df[\"clin_size_long_diam_mm\"]/df[\"age_approx\"]\n",
    "    # internal and external hue averaged\n",
    "    df[\"mean_hue_difference\"]=(df[\"tbp_lv_H\"]+df[\"tbp_lv_Hext\"])/2\n",
    "    # combining inner contrast assuming Gaussisna\n",
    "    df[\"std_dev_contrast\"]=np.sqrt((df[\"tbp_lv_deltaA\"]**2+df[\"tbp_lv_deltaB\"]**2+df[\"tbp_lv_deltaL\"]**2)/3)\n",
    "    # combine metrics of color and shape, both could be more irregular for malignant\n",
    "    df[\"color_shape_composite_index\"]=(df[\"tbp_lv_color_std_mean\"]+df[\"tbp_lv_area_perim_ratio\"]+df[\"tbp_lv_symm_2axis\"])/3\n",
    "    df[\"3d_lesion_orientation\"]=np.arctan2(df[\"tbp_lv_y\"],df[\"tbp_lv_x\"])\n",
    "    df[\"overall_color_difference\"]=(df[\"tbp_lv_deltaA\"]+df[\"tbp_lv_deltaB\"]+df[\"tbp_lv_deltaL\"])/3\n",
    "    df[\"symmetry_perimeter_interaction\"]=df[\"tbp_lv_symm_2axis\"]*df[\"tbp_lv_perimeterMM\"]\n",
    "    # the larger this value, the larger the \"irregularity\"\n",
    "    df[\"comprehensive_lesion_index\"]=(df[\"tbp_lv_area_perim_ratio\"]+df[\"tbp_lv_eccentricity\"]+df[\"tbp_lv_norm_color\"]+df[\"tbp_lv_symm_2axis\"])/4\n",
    "    \n",
    "    # categorical columns\n",
    "    n_cat = [\"combined_anatomical_site\"]\n",
    "    \n",
    "    return df, n_cat\n",
    "\n",
    "train, n_cat = fe(train)\n",
    "test, _ = fe(test)\n",
    "\n",
    "# columns with categories\n",
    "cat_cols = [\"sex\", \"tbp_tile_type\", \"tbp_lv_location\", \"tbp_lv_location_simple\",'patient_id',\n",
    "   'anatom_site_general','copyright_license','attribution','image_type'] + n_cat\n",
    "\n",
    "# drop additional columns in one set\n",
    "def align_columns(train, test):\n",
    "    common_cols = train.columns.intersection(test.columns)\n",
    "    train = train[common_cols]\n",
    "    test = test[common_cols]\n",
    "    return train, test\n",
    "\n",
    "# protect target from being altered by fit_transform, add back later.\n",
    "target = train['target']\n",
    "train_features = train.drop(columns=['target'], errors='ignore')\n",
    "\n",
    "train_features_aligned, test_features_aligned = align_columns(train_features, test)\n",
    "\n",
    "encoder = ce.OrdinalEncoder(cols=cat_cols, handle_unknown='ignore')\n",
    "train = encoder.fit_transform(train_features_aligned)\n",
    "# a second call to encoder.transform will apply the same statistics of fit_transform.\n",
    "test = encoder.transform(test_features_aligned)\n",
    "\n",
    "train['target'] = target"
   ]
  },
  {
   "cell_type": "code",
   "execution_count": 4,
   "id": "58dbf18f",
   "metadata": {
    "execution": {
     "iopub.execute_input": "2024-09-02T17:29:09.031566Z",
     "iopub.status.busy": "2024-09-02T17:29:09.030588Z",
     "iopub.status.idle": "2024-09-02T17:29:09.117940Z",
     "shell.execute_reply": "2024-09-02T17:29:09.116900Z"
    },
    "papermill": {
     "duration": 0.097079,
     "end_time": "2024-09-02T17:29:09.120908",
     "exception": false,
     "start_time": "2024-09-02T17:29:09.023829",
     "status": "completed"
    },
    "tags": []
   },
   "outputs": [],
   "source": [
    "X = train.drop('target',axis=1)\n",
    "y = train['target']\n",
    "\n",
    "def pauc_above_tpr(solution: pd.DataFrame, submission: pd.DataFrame, min_tpr: float=0.80):\n",
    "    v_gt = abs(np.asarray(solution.values)-1)\n",
    "    v_pred = np.array([1.0 - x for x in submission.values])\n",
    "    max_fpr = abs(1-min_tpr)\n",
    "    partial_auc_scaled = roc_auc_score(v_gt, v_pred, max_fpr=max_fpr)\n",
    "    partial_auc = 0.5 * max_fpr**2 + (max_fpr - 0.5 * max_fpr**2) / (1.0 - 0.5) * (partial_auc_scaled - 0.5)\n",
    "    return partial_auc\n",
    "\n",
    "def Train_ML(Model, X, y, test_data):\n",
    "    # k-fold cross-validation\n",
    "    skf = StratifiedKFold(n_splits=n_splits, shuffle=True, random_state=SEED)\n",
    "    train_scores = []\n",
    "    val_scores = []\n",
    "    test_predictions = [] \n",
    "    models = []\n",
    "\n",
    "    for fold, (train_index, test_index) in enumerate(tqdm(skf.split(X, y), total=n_splits), 1):\n",
    "        # StratifiedKFold yields the indices from which we retrieve pandas metadata\n",
    "        X_train, X_val = X.iloc[train_index], X.iloc[test_index]\n",
    "        y_train, y_val = y.iloc[train_index], y.iloc[test_index]\n",
    "        \n",
    "        model = Model\n",
    "        \n",
    "        model.fit(X_train, y_train)\n",
    "\n",
    "        # record performance on all sets\n",
    "        y_train_pred_proba = model.predict_proba(X_train)[:, 1]\n",
    "        train_pauc = pauc_above_tpr(y_train,pd.DataFrame(y_train_pred_proba, columns=[\"prediction\"]),min_tpr=0.8)\n",
    "        train_scores.append(train_pauc)\n",
    "\n",
    "        y_val_pred_proba = model.predict_proba(X_val)[:, 1]\n",
    "        val_pauc = pauc_above_tpr(y_val,pd.DataFrame(y_val_pred_proba, columns=[\"prediction\"]),min_tpr=0.8)\n",
    "        val_scores.append(val_pauc)\n",
    "        \n",
    "        # make prediction\n",
    "        y_test_pred_proba = model.predict_proba(test)[:, 1]\n",
    "        test_predictions.append(y_test_pred_proba)\n",
    "        \n",
    "        models.append(model)\n",
    "\n",
    "        print(f\"Fold {fold}: Train pAUC = {train_pauc:.4f}, Validation pAUC = {val_pauc:.4f}\")\n",
    "\n",
    "    # mean pauc on different folds' models\n",
    "    mean_train_pauc = np.mean(train_scores)\n",
    "    mean_val_pauc = np.mean(val_scores)\n",
    "\n",
    "    print(f\"\\nMean Train pAUC: {mean_train_pauc:.4f}\")\n",
    "    print(f\"Mean Validation pAUC: {mean_val_pauc:.4f}\")\n",
    "\n",
    "    # why would you want the \"model\"?\n",
    "    return model,test_predictions, models"
   ]
  },
  {
   "cell_type": "markdown",
   "id": "7385767f",
   "metadata": {
    "papermill": {
     "duration": 0.005094,
     "end_time": "2024-09-02T17:29:09.132579",
     "exception": false,
     "start_time": "2024-09-02T17:29:09.127485",
     "status": "completed"
    },
    "tags": []
   },
   "source": [
    "LightBGM"
   ]
  },
  {
   "cell_type": "code",
   "execution_count": 5,
   "id": "70ddeded",
   "metadata": {
    "execution": {
     "iopub.execute_input": "2024-09-02T17:29:09.145119Z",
     "iopub.status.busy": "2024-09-02T17:29:09.144394Z",
     "iopub.status.idle": "2024-09-02T17:50:36.728067Z",
     "shell.execute_reply": "2024-09-02T17:50:36.726984Z"
    },
    "papermill": {
     "duration": 1287.599721,
     "end_time": "2024-09-02T17:50:36.737529",
     "exception": false,
     "start_time": "2024-09-02T17:29:09.137808",
     "status": "completed"
    },
    "tags": []
   },
   "outputs": [
    {
     "name": "stderr",
     "output_type": "stream",
     "text": [
      " 33%|███▎      | 1/3 [04:44<09:29, 284.64s/it]"
     ]
    },
    {
     "name": "stdout",
     "output_type": "stream",
     "text": [
      "Fold 1: Train pAUC = 0.1938, Validation pAUC = 0.1705\n"
     ]
    },
    {
     "name": "stderr",
     "output_type": "stream",
     "text": [
      " 67%|██████▋   | 2/3 [13:00<06:49, 409.05s/it]"
     ]
    },
    {
     "name": "stdout",
     "output_type": "stream",
     "text": [
      "Fold 2: Train pAUC = 0.1941, Validation pAUC = 0.1513\n"
     ]
    },
    {
     "name": "stderr",
     "output_type": "stream",
     "text": [
      "100%|██████████| 3/3 [21:27<00:00, 429.19s/it]"
     ]
    },
    {
     "name": "stdout",
     "output_type": "stream",
     "text": [
      "Fold 3: Train pAUC = 0.1920, Validation pAUC = 0.1635\n",
      "\n",
      "Mean Train pAUC: 0.1933\n",
      "Mean Validation pAUC: 0.1617\n",
      "CPU times: user 25min 25s, sys: 2.36 s, total: 25min 28s\n",
      "Wall time: 21min 27s\n"
     ]
    },
    {
     "name": "stderr",
     "output_type": "stream",
     "text": [
      "\n"
     ]
    }
   ],
   "source": [
    "%%time\n",
    "\n",
    "params =  {\n",
    "        'objective': 'binary', 'colsample_bytree': 0.6852015051268027, 'max_depth': 4, \n",
    "        'learning_rate': 0.05714390301637632, 'n_estimators': 1010, 'subsample': 0.13326633837138008, \n",
    "        'lambda_l1': 1.4445754309498806e-08, 'lambda_l2': 0.11031259304642657, 'boosting_type': 'dart'\n",
    "            }\n",
    "\n",
    "Model = LGBMClassifier(**params,verbose=-1,random_state=SEED,\n",
    "                      extra_tree=True,max_bin=250,reg_alpha=0.1,reg_lambda=0.8\n",
    "                      )\n",
    "\n",
    "train_lgb, test_preds , all_models = Train_ML(Model, X, y, test)"
   ]
  },
  {
   "cell_type": "markdown",
   "id": "b0001202",
   "metadata": {
    "papermill": {
     "duration": 0.006098,
     "end_time": "2024-09-02T17:50:36.749976",
     "exception": false,
     "start_time": "2024-09-02T17:50:36.743878",
     "status": "completed"
    },
    "tags": []
   },
   "source": [
    "CatBoost"
   ]
  },
  {
   "cell_type": "code",
   "execution_count": 6,
   "id": "0780ad4b",
   "metadata": {
    "execution": {
     "iopub.execute_input": "2024-09-02T17:50:36.764363Z",
     "iopub.status.busy": "2024-09-02T17:50:36.763930Z",
     "iopub.status.idle": "2024-09-02T17:53:51.274720Z",
     "shell.execute_reply": "2024-09-02T17:53:51.273569Z"
    },
    "papermill": {
     "duration": 194.52812,
     "end_time": "2024-09-02T17:53:51.284372",
     "exception": false,
     "start_time": "2024-09-02T17:50:36.756252",
     "status": "completed"
    },
    "tags": []
   },
   "outputs": [
    {
     "name": "stderr",
     "output_type": "stream",
     "text": [
      " 33%|███▎      | 1/3 [01:05<02:10, 65.28s/it]"
     ]
    },
    {
     "name": "stdout",
     "output_type": "stream",
     "text": [
      "Fold 1: Train pAUC = 0.1908, Validation pAUC = 0.1711\n"
     ]
    },
    {
     "name": "stderr",
     "output_type": "stream",
     "text": [
      " 67%|██████▋   | 2/3 [02:09<01:04, 64.90s/it]"
     ]
    },
    {
     "name": "stdout",
     "output_type": "stream",
     "text": [
      "Fold 2: Train pAUC = 0.1933, Validation pAUC = 0.1535\n"
     ]
    },
    {
     "name": "stderr",
     "output_type": "stream",
     "text": [
      "100%|██████████| 3/3 [03:14<00:00, 64.83s/it]"
     ]
    },
    {
     "name": "stdout",
     "output_type": "stream",
     "text": [
      "Fold 3: Train pAUC = 0.1923, Validation pAUC = 0.1619\n",
      "\n",
      "Mean Train pAUC: 0.1922\n",
      "Mean Validation pAUC: 0.1621\n",
      "CPU times: user 9min 13s, sys: 1min 29s, total: 10min 42s\n",
      "Wall time: 3min 14s\n"
     ]
    },
    {
     "name": "stderr",
     "output_type": "stream",
     "text": [
      "\n"
     ]
    }
   ],
   "source": [
    "%%time\n",
    "\n",
    "Cat_Model = CatBoostClassifier(verbose=0,random_state=SEED,\n",
    "                          iterations = 1000,\n",
    "                          learning_rate=0.01,\n",
    "                          objective = 'Logloss',\n",
    "                          boosting_type = 'Plain',\n",
    "                          bootstrap_type = 'Bernoulli',\n",
    "                          colsample_bylevel = 0.08656159895289164,\n",
    "                          subsample = 0.46623542352578917,\n",
    "                          depth=9,)\n",
    "\n",
    "train_cat, cat_test_preds , Cat_all_models = Train_ML(Cat_Model, X, y, test)"
   ]
  },
  {
   "cell_type": "markdown",
   "id": "e5373b9c",
   "metadata": {
    "papermill": {
     "duration": 0.007014,
     "end_time": "2024-09-02T17:53:51.298663",
     "exception": false,
     "start_time": "2024-09-02T17:53:51.291649",
     "status": "completed"
    },
    "tags": []
   },
   "source": [
    "XGB"
   ]
  },
  {
   "cell_type": "code",
   "execution_count": 7,
   "id": "f82363ff",
   "metadata": {
    "execution": {
     "iopub.execute_input": "2024-09-02T17:53:51.315158Z",
     "iopub.status.busy": "2024-09-02T17:53:51.314664Z",
     "iopub.status.idle": "2024-09-02T17:58:49.856755Z",
     "shell.execute_reply": "2024-09-02T17:58:49.855659Z"
    },
    "papermill": {
     "duration": 298.562442,
     "end_time": "2024-09-02T17:58:49.868545",
     "exception": false,
     "start_time": "2024-09-02T17:53:51.306103",
     "status": "completed"
    },
    "tags": []
   },
   "outputs": [
    {
     "name": "stderr",
     "output_type": "stream",
     "text": [
      " 33%|███▎      | 1/3 [01:40<03:21, 100.52s/it]"
     ]
    },
    {
     "name": "stdout",
     "output_type": "stream",
     "text": [
      "Fold 1: Train pAUC = 0.1937, Validation pAUC = 0.1710\n"
     ]
    },
    {
     "name": "stderr",
     "output_type": "stream",
     "text": [
      " 67%|██████▋   | 2/3 [03:18<01:39, 99.22s/it] "
     ]
    },
    {
     "name": "stdout",
     "output_type": "stream",
     "text": [
      "Fold 2: Train pAUC = 0.1937, Validation pAUC = 0.1536\n"
     ]
    },
    {
     "name": "stderr",
     "output_type": "stream",
     "text": [
      "100%|██████████| 3/3 [04:58<00:00, 99.51s/it]"
     ]
    },
    {
     "name": "stdout",
     "output_type": "stream",
     "text": [
      "Fold 3: Train pAUC = 0.1937, Validation pAUC = 0.1590\n",
      "\n",
      "Mean Train pAUC: 0.1937\n",
      "Mean Validation pAUC: 0.1612\n",
      "CPU times: user 4min 57s, sys: 662 ms, total: 4min 58s\n",
      "Wall time: 4min 58s\n"
     ]
    },
    {
     "name": "stderr",
     "output_type": "stream",
     "text": [
      "\n"
     ]
    }
   ],
   "source": [
    "%%time\n",
    "\n",
    "xgb_params2 = {\n",
    "    'objective': 'binary:logistic', 'colsample_bytree': 0.11756728710020253,'max_depth': 4, \n",
    "    'learning_rate': 0.009393224320850784,'n_estimators': 1227, 'subsample': 0.9589462514195692,\n",
    "    'lambda': 0.34216652262461505,'alpha': 1.150597512455824e-07\n",
    "              }\n",
    "\n",
    "xgb_Model = XGBClassifier(**xgb_params2,random_state=SEED)\n",
    "\n",
    "train_xgb, xgb_test_preds , xgb_all_models = Train_ML(xgb_Model, X, y, test)"
   ]
  },
  {
   "cell_type": "markdown",
   "id": "2bbca812",
   "metadata": {
    "papermill": {
     "duration": 0.007627,
     "end_time": "2024-09-02T17:58:49.884002",
     "exception": false,
     "start_time": "2024-09-02T17:58:49.876375",
     "status": "completed"
    },
    "tags": []
   },
   "source": [
    "Test"
   ]
  },
  {
   "cell_type": "code",
   "execution_count": 8,
   "id": "3e21c745",
   "metadata": {
    "execution": {
     "iopub.execute_input": "2024-09-02T17:58:49.902474Z",
     "iopub.status.busy": "2024-09-02T17:58:49.902078Z",
     "iopub.status.idle": "2024-09-02T17:58:49.936085Z",
     "shell.execute_reply": "2024-09-02T17:58:49.934838Z"
    },
    "papermill": {
     "duration": 0.046177,
     "end_time": "2024-09-02T17:58:49.938509",
     "exception": false,
     "start_time": "2024-09-02T17:58:49.892332",
     "status": "completed"
    },
    "tags": []
   },
   "outputs": [
    {
     "name": "stdout",
     "output_type": "stream",
     "text": [
      "CPU times: user 7.01 ms, sys: 0 ns, total: 7.01 ms\n",
      "Wall time: 14.2 ms\n"
     ]
    },
    {
     "data": {
      "text/html": [
       "<div>\n",
       "<style scoped>\n",
       "    .dataframe tbody tr th:only-of-type {\n",
       "        vertical-align: middle;\n",
       "    }\n",
       "\n",
       "    .dataframe tbody tr th {\n",
       "        vertical-align: top;\n",
       "    }\n",
       "\n",
       "    .dataframe thead th {\n",
       "        text-align: right;\n",
       "    }\n",
       "</style>\n",
       "<table border=\"1\" class=\"dataframe\">\n",
       "  <thead>\n",
       "    <tr style=\"text-align: right;\">\n",
       "      <th></th>\n",
       "      <th>isic_id</th>\n",
       "      <th>target</th>\n",
       "    </tr>\n",
       "  </thead>\n",
       "  <tbody>\n",
       "    <tr>\n",
       "      <th>0</th>\n",
       "      <td>ISIC_0015657</td>\n",
       "      <td>0.000268</td>\n",
       "    </tr>\n",
       "    <tr>\n",
       "      <th>1</th>\n",
       "      <td>ISIC_0015729</td>\n",
       "      <td>0.000065</td>\n",
       "    </tr>\n",
       "    <tr>\n",
       "      <th>2</th>\n",
       "      <td>ISIC_0015740</td>\n",
       "      <td>0.000260</td>\n",
       "    </tr>\n",
       "  </tbody>\n",
       "</table>\n",
       "</div>"
      ],
      "text/plain": [
       "        isic_id    target\n",
       "0  ISIC_0015657  0.000268\n",
       "1  ISIC_0015729  0.000065\n",
       "2  ISIC_0015740  0.000260"
      ]
     },
     "execution_count": 8,
     "metadata": {},
     "output_type": "execute_result"
    }
   ],
   "source": [
    "%%time\n",
    "\n",
    "Sample = pd.read_csv('/kaggle/input/isic-2024-challenge/sample_submission.csv')\n",
    "\n",
    "lgb_test = np.mean(test_preds, axis=0)\n",
    "cat_test = np.mean(cat_test_preds, axis=0)\n",
    "xgb_test = np.mean(xgb_test_preds, axis=0)\n",
    "\n",
    "\n",
    "ensemble_preds = (lgb_test + cat_test + xgb_test) / 3\n",
    "\n",
    "sub = pd.DataFrame({\n",
    "    'isic_id': Sample['isic_id'],\n",
    "    'target': ensemble_preds\n",
    "})\n",
    "\n",
    "sub.to_csv('submission.csv', index=False)\n",
    "sub.head()"
   ]
  }
 ],
 "metadata": {
  "kaggle": {
   "accelerator": "none",
   "dataSources": [
    {
     "databundleVersionId": 9094797,
     "sourceId": 63056,
     "sourceType": "competition"
    }
   ],
   "dockerImageVersionId": 30746,
   "isGpuEnabled": false,
   "isInternetEnabled": false,
   "language": "python",
   "sourceType": "notebook"
  },
  "kernelspec": {
   "display_name": "Python 3",
   "language": "python",
   "name": "python3"
  },
  "language_info": {
   "codemirror_mode": {
    "name": "ipython",
    "version": 3
   },
   "file_extension": ".py",
   "mimetype": "text/x-python",
   "name": "python",
   "nbconvert_exporter": "python",
   "pygments_lexer": "ipython3",
   "version": "3.10.13"
  },
  "papermill": {
   "default_parameters": {},
   "duration": 1804.944007,
   "end_time": "2024-09-02T17:58:50.874735",
   "environment_variables": {},
   "exception": null,
   "input_path": "__notebook__.ipynb",
   "output_path": "__notebook__.ipynb",
   "parameters": {},
   "start_time": "2024-09-02T17:28:45.930728",
   "version": "2.5.0"
  }
 },
 "nbformat": 4,
 "nbformat_minor": 5
}
